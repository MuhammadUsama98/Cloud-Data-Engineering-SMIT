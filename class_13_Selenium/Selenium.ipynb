{
 "cells": [
  {
   "cell_type": "code",
   "execution_count": 18,
   "id": "12bbf9e5",
   "metadata": {},
   "outputs": [],
   "source": [
    "from selenium import webdriver\n",
    "from selenium.webdriver.common.by import By\n",
    "from selenium.webdriver.chrome.options import Options"
   ]
  },
  {
   "cell_type": "code",
   "execution_count": 27,
   "id": "26cea510",
   "metadata": {},
   "outputs": [],
   "source": [
    "path = r'E:\\\\CDE\\\\class_15\\\\chromedriver-win64\\\\chromedriver.exe'\n",
    "driver = webdriver.Chrome(path)\n",
    "driver.get('https://pk.indeed.com/')\n",
    "options = Options()\n",
    "options.add_argument('--start-maximized')\n",
    "#driver = webdriver.Chrome(options=options)"
   ]
  },
  {
   "cell_type": "code",
   "execution_count": 26,
   "id": "67ffb59d",
   "metadata": {},
   "outputs": [
    {
     "data": {
      "text/plain": [
       "{'identifier': '2'}"
      ]
     },
     "execution_count": 26,
     "metadata": {},
     "output_type": "execute_result"
    }
   ],
   "source": [
    "from selenium import webdriver\n",
    "from selenium.webdriver.chrome.service import Service\n",
    "from selenium.webdriver.chrome.options import Options\n",
    "from webdriver_manager.chrome import ChromeDriverManager\n",
    "\n",
    "options = Options()\n",
    "options.add_argument(\"--disable-blink-features=AutomationControlled\")\n",
    "options.add_experimental_option(\"excludeSwitches\", [\"enable-automation\"])\n",
    "options.add_experimental_option(\"useAutomationExtension\", False)\n",
    "\n",
    "driver = webdriver.Chrome(ChromeDriverManager().install())\n",
    "#driver = webdriver.Chrome(service=Service(ChromeDriverManager().install()), options=options)\n",
    "driver.execute_cdp_cmd(\"Page.addScriptToEvaluateOnNewDocument\", {\n",
    "    \"source\": \"\"\"\n",
    "    Object.defineProperty(navigator, 'webdriver', {\n",
    "      get: () => undefined\n",
    "    })\n",
    "    \"\"\"\n",
    "})"
   ]
  },
  {
   "cell_type": "code",
   "execution_count": 28,
   "id": "03fd0193",
   "metadata": {},
   "outputs": [],
   "source": [
    "query = driver.find_element_by_xpath('//*[@id=\"text-input-what\"]')\n",
    "query.send_keys('data engineer')"
   ]
  },
  {
   "cell_type": "code",
   "execution_count": 29,
   "id": "b3da960d",
   "metadata": {},
   "outputs": [],
   "source": [
    "find_job = driver.find_element_by_class_name('yosegi-InlineWhatWhere-primaryButton')\n",
    "find_job.click()"
   ]
  },
  {
   "cell_type": "code",
   "execution_count": 33,
   "id": "9fbba692",
   "metadata": {},
   "outputs": [
    {
     "data": {
      "text/plain": [
       "'Senior Data Integration Engineer\\n- job post'"
      ]
     },
     "execution_count": 33,
     "metadata": {},
     "output_type": "execute_result"
    }
   ],
   "source": [
    "job_title = driver.find_element_by_xpath('//*[@id=\"jobsearch-ViewjobPaneWrapper\"]/div/div[2]/div[2]/div[1]/div/div[1]/div[1]/h2')\n",
    "job_title.text"
   ]
  },
  {
   "cell_type": "code",
   "execution_count": null,
   "id": "7b9439ea",
   "metadata": {},
   "outputs": [],
   "source": [
    "    "
   ]
  }
 ],
 "metadata": {
  "kernelspec": {
   "display_name": "Python 3 (ipykernel)",
   "language": "python",
   "name": "python3"
  },
  "language_info": {
   "codemirror_mode": {
    "name": "ipython",
    "version": 3
   },
   "file_extension": ".py",
   "mimetype": "text/x-python",
   "name": "python",
   "nbconvert_exporter": "python",
   "pygments_lexer": "ipython3",
   "version": "3.10.8"
  }
 },
 "nbformat": 4,
 "nbformat_minor": 5
}
