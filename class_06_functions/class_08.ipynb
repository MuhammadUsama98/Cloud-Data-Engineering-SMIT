{
 "cells": [
  {
   "cell_type": "markdown",
   "id": "6d0ed974",
   "metadata": {},
   "source": [
    "# Functions"
   ]
  },
  {
   "cell_type": "markdown",
   "id": "315a7b51",
   "metadata": {},
   "source": [
    "A function is a block of Python code that robotically does the same thing again\n",
    "and again, whenever you invoke its name. It saves you repetitive coding and\n",
    "makes your code easier to understand."
   ]
  },
  {
   "cell_type": "markdown",
   "id": "84fb8c82",
   "metadata": {},
   "source": [
    "### Function Syntax"
   ]
  },
  {
   "cell_type": "raw",
   "id": "b6ab75bd",
   "metadata": {},
   "source": [
    "def <function name>(<parameter>):\n",
    "    <body>"
   ]
  },
  {
   "cell_type": "code",
   "execution_count": 2,
   "id": "99c5c1af",
   "metadata": {},
   "outputs": [
    {
     "name": "stdout",
     "output_type": "stream",
     "text": [
      "Hello Saylani\n"
     ]
    }
   ],
   "source": [
    "def greet():\n",
    "    print(\"Hello Saylani\")\n",
    "greet()"
   ]
  },
  {
   "cell_type": "code",
   "execution_count": 3,
   "id": "cde7850e",
   "metadata": {},
   "outputs": [
    {
     "name": "stdout",
     "output_type": "stream",
     "text": [
      "Hello Saylani\n"
     ]
    }
   ],
   "source": [
    "greet()"
   ]
  },
  {
   "cell_type": "markdown",
   "id": "b3975fc0",
   "metadata": {},
   "source": [
    "### Passing them information"
   ]
  },
  {
   "cell_type": "code",
   "execution_count": 8,
   "id": "f47f15e0",
   "metadata": {},
   "outputs": [
    {
     "name": "stdout",
     "output_type": "stream",
     "text": [
      "7\n"
     ]
    }
   ],
   "source": [
    "def add(a, b):\n",
    "    total = a + b\n",
    "    print(total)\n",
    "add(2, 5)"
   ]
  },
  {
   "cell_type": "markdown",
   "id": "ee5b3222",
   "metadata": {},
   "source": [
    "### Passing information in a different way"
   ]
  },
  {
   "cell_type": "code",
   "execution_count": 12,
   "id": "fa3e375e",
   "metadata": {},
   "outputs": [
    {
     "name": "stdout",
     "output_type": "stream",
     "text": [
      "8\n"
     ]
    }
   ],
   "source": [
    "def add(num1 = 0, num2 = 0):\n",
    "    total = num1 + num2\n",
    "    print(total)\n",
    "add(4,4)"
   ]
  },
  {
   "cell_type": "markdown",
   "id": "0e6d1e7e",
   "metadata": {},
   "source": [
    "### Mixing positional and keyword argument"
   ]
  },
  {
   "cell_type": "code",
   "execution_count": 13,
   "id": "2502d23b",
   "metadata": {},
   "outputs": [],
   "source": [
    "def salary_cal(salary, bonus = 0.15):\n",
    "    new_salary = salary + (salary * bonus)\n",
    "    print(new_salary)"
   ]
  },
  {
   "cell_type": "code",
   "execution_count": 14,
   "id": "a2b93965",
   "metadata": {},
   "outputs": [
    {
     "name": "stdout",
     "output_type": "stream",
     "text": [
      "57500.0\n"
     ]
    }
   ],
   "source": [
    "salary_cal(50000)"
   ]
  },
  {
   "cell_type": "code",
   "execution_count": 15,
   "id": "5544ae20",
   "metadata": {
    "collapsed": true
   },
   "outputs": [
    {
     "ename": "SyntaxError",
     "evalue": "non-default argument follows default argument (452900188.py, line 1)",
     "output_type": "error",
     "traceback": [
      "\u001b[1;36m  Cell \u001b[1;32mIn[15], line 1\u001b[1;36m\u001b[0m\n\u001b[1;33m    def salary_cal(bonus = 0.15, salary):\u001b[0m\n\u001b[1;37m                                 ^\u001b[0m\n\u001b[1;31mSyntaxError\u001b[0m\u001b[1;31m:\u001b[0m non-default argument follows default argument\n"
     ]
    }
   ],
   "source": [
    "def salary_cal(bonus = 0.15, salary): # non-default argument follows default argument\n",
    "    new_salary = salary + (salary * bonus)\n",
    "    print(new_salary)"
   ]
  },
  {
   "cell_type": "code",
   "execution_count": 25,
   "id": "193810b6",
   "metadata": {},
   "outputs": [
    {
     "name": "stdout",
     "output_type": "stream",
     "text": [
      "uper case letter 2\n",
      "lower case letter 3\n"
     ]
    }
   ],
   "source": [
    "def string_count(name):\n",
    "    count_lower = 0\n",
    "    count_uper = 0\n",
    "    for i in name:\n",
    "        if i >= \"a\" and i <= \"z\":\n",
    "            count_lower += 1\n",
    "        elif i >= \"A\" and i <= \"Z\":\n",
    "            count_uper += 1\n",
    "        else:\n",
    "            continue\n",
    "    return [count_uper, count_lower]\n",
    "\n",
    "name = \"UsaMa\"\n",
    "count = string_count(name)\n",
    "print(\"uper case letter\", count[0])\n",
    "print('lower case letter', count[1])\n",
    "    "
   ]
  },
  {
   "cell_type": "code",
   "execution_count": 23,
   "id": "f8de214c",
   "metadata": {},
   "outputs": [
    {
     "name": "stdout",
     "output_type": "stream",
     "text": [
      "No. of upper case character 0\n",
      "No. of lower case character 0\n"
     ]
    }
   ],
   "source": [
    "string_count(\"Usama\")"
   ]
  },
  {
   "cell_type": "markdown",
   "id": "a70ab8c2",
   "metadata": {},
   "source": [
    "### Dealing with unknown number of arguments"
   ]
  },
  {
   "cell_type": "code",
   "execution_count": 26,
   "id": "a2ba88df",
   "metadata": {},
   "outputs": [],
   "source": [
    "def display_result(winner, score):\n",
    "    print(\"The winner was \" + winner)\n",
    "    print(\"The score was \" + score)"
   ]
  },
  {
   "cell_type": "code",
   "execution_count": 27,
   "id": "ab60d40a",
   "metadata": {},
   "outputs": [
    {
     "name": "stdout",
     "output_type": "stream",
     "text": [
      "The winner was Real Madrid\n",
      "The score was 1-0\n"
     ]
    }
   ],
   "source": [
    "display_result(winner=\"Real Madrid\", score=\"1-0\")"
   ]
  },
  {
   "cell_type": "code",
   "execution_count": 28,
   "id": "ab7d620a",
   "metadata": {},
   "outputs": [
    {
     "ename": "TypeError",
     "evalue": "display_result() got an unexpected keyword argument 'overtime'",
     "output_type": "error",
     "traceback": [
      "\u001b[1;31m---------------------------------------------------------------------------\u001b[0m",
      "\u001b[1;31mTypeError\u001b[0m                                 Traceback (most recent call last)",
      "Cell \u001b[1;32mIn[28], line 1\u001b[0m\n\u001b[1;32m----> 1\u001b[0m \u001b[43mdisplay_result\u001b[49m\u001b[43m(\u001b[49m\u001b[43mwinner\u001b[49m\u001b[38;5;241;43m=\u001b[39;49m\u001b[38;5;124;43m\"\u001b[39;49m\u001b[38;5;124;43mReal Madrid\u001b[39;49m\u001b[38;5;124;43m\"\u001b[39;49m\u001b[43m,\u001b[49m\u001b[43m \u001b[49m\u001b[43mscore\u001b[49m\u001b[38;5;241;43m=\u001b[39;49m\u001b[38;5;124;43m\"\u001b[39;49m\u001b[38;5;124;43m1-0\u001b[39;49m\u001b[38;5;124;43m\"\u001b[39;49m\u001b[43m,\u001b[49m\n\u001b[0;32m      2\u001b[0m \u001b[43movertime\u001b[49m\u001b[43m \u001b[49m\u001b[38;5;241;43m=\u001b[39;49m\u001b[38;5;124;43m\"\u001b[39;49m\u001b[38;5;124;43myes\u001b[39;49m\u001b[38;5;124;43m\"\u001b[39;49m\u001b[43m,\u001b[49m\u001b[43m \u001b[49m\u001b[43minjuries\u001b[49m\u001b[38;5;241;43m=\u001b[39;49m\u001b[38;5;124;43m\"\u001b[39;49m\u001b[38;5;124;43mnone\u001b[39;49m\u001b[38;5;124;43m\"\u001b[39;49m\u001b[43m)\u001b[49m\n",
      "\u001b[1;31mTypeError\u001b[0m: display_result() got an unexpected keyword argument 'overtime'"
     ]
    }
   ],
   "source": [
    "display_result(winner=\"Real Madrid\", score=\"1-0\",\n",
    "overtime =\"yes\", injuries=\"none\")"
   ]
  },
  {
   "cell_type": "code",
   "execution_count": 32,
   "id": "bb4a3c5d",
   "metadata": {},
   "outputs": [],
   "source": [
    "def display_result(winner, score, **kwargs):\n",
    "    print(\"The winner was \" + winner)\n",
    "    print(\"The score was \" + score)\n",
    "    print(kwargs)"
   ]
  },
  {
   "cell_type": "code",
   "execution_count": 33,
   "id": "5c863e62",
   "metadata": {},
   "outputs": [
    {
     "name": "stdout",
     "output_type": "stream",
     "text": [
      "The winner was Real Madrid\n",
      "The score was 1-0\n",
      "{'overtime': 'yes', 'injuries': 'none'}\n"
     ]
    }
   ],
   "source": [
    "display_result(winner=\"Real Madrid\", score=\"1-0\",\n",
    "overtime =\"yes\", injuries=\"none\")"
   ]
  },
  {
   "cell_type": "code",
   "execution_count": 39,
   "id": "2185409e",
   "metadata": {},
   "outputs": [],
   "source": [
    "def display_result(winner, score, *args):\n",
    "    print(\"The winner was \" + winner)\n",
    "    print(\"The score was \" + score)\n",
    "    print(args)"
   ]
  },
  {
   "cell_type": "code",
   "execution_count": 40,
   "id": "f384a0b6",
   "metadata": {},
   "outputs": [
    {
     "name": "stdout",
     "output_type": "stream",
     "text": [
      "The winner was Real Madrid\n",
      "The score was 1-0\n",
      "('yes', 'none')\n"
     ]
    }
   ],
   "source": [
    "display_result(\"Real Madrid\", \"1-0\", \"yes\", \"none\")"
   ]
  },
  {
   "cell_type": "markdown",
   "id": "bfe460cd",
   "metadata": {},
   "source": [
    "### Positional Arguments "
   ]
  },
  {
   "cell_type": "code",
   "execution_count": 42,
   "id": "712f2b92",
   "metadata": {},
   "outputs": [],
   "source": [
    "def details(last_name, first_name = \"Muhammad\", age = 25):\n",
    "    print(first_name, last_name, age)"
   ]
  },
  {
   "cell_type": "code",
   "execution_count": 45,
   "id": "b756308b",
   "metadata": {},
   "outputs": [
    {
     "name": "stdout",
     "output_type": "stream",
     "text": [
      "Muhammad usama 25\n"
     ]
    }
   ],
   "source": [
    "details('usama')"
   ]
  },
  {
   "cell_type": "markdown",
   "id": "10e1a40b",
   "metadata": {},
   "source": [
    "### Notes:"
   ]
  },
  {
   "cell_type": "markdown",
   "id": "a49bd237",
   "metadata": {},
   "source": [
    "- key word arguments will always be at last.\n",
    "- if we have last argument as *args before that we can't use kwargs."
   ]
  },
  {
   "cell_type": "markdown",
   "id": "52ebfe1b",
   "metadata": {},
   "source": [
    "### Passing information back from them."
   ]
  },
  {
   "cell_type": "code",
   "execution_count": 46,
   "id": "f58cae60",
   "metadata": {},
   "outputs": [
    {
     "name": "stdout",
     "output_type": "stream",
     "text": [
      "[2, 3]\n"
     ]
    }
   ],
   "source": [
    "def string_count(name):\n",
    "    count_lower = 0\n",
    "    count_uper = 0\n",
    "    for i in name:\n",
    "        if i >= \"a\" and i <= \"z\":\n",
    "            count_lower += 1\n",
    "        elif i >= \"A\" and i <= \"Z\":\n",
    "            count_uper += 1\n",
    "        else:\n",
    "            continue\n",
    "    return [count_uper, count_lower]\n",
    "\n",
    "name = \"UsaMa\"\n",
    "count = string_count(name)\n",
    "#print(\"uper case letter\", count[0])\n",
    "#print('lower case letter', count[1])\n",
    "print(count)"
   ]
  },
  {
   "cell_type": "markdown",
   "id": "f161b231",
   "metadata": {},
   "source": [
    "### Using function as variables"
   ]
  },
  {
   "cell_type": "code",
   "execution_count": 47,
   "id": "ce0e6eb4",
   "metadata": {},
   "outputs": [],
   "source": [
    "upper, lower = string_count(name)"
   ]
  },
  {
   "cell_type": "code",
   "execution_count": 48,
   "id": "686f7e10",
   "metadata": {},
   "outputs": [
    {
     "name": "stdout",
     "output_type": "stream",
     "text": [
      "2 3\n"
     ]
    }
   ],
   "source": [
    "print(upper, lower)"
   ]
  },
  {
   "cell_type": "code",
   "execution_count": 50,
   "id": "1d80e41d",
   "metadata": {},
   "outputs": [
    {
     "name": "stdout",
     "output_type": "stream",
     "text": [
      "-336\n"
     ]
    }
   ],
   "source": [
    "# write a python function to multiply all the numbers in a list.\n",
    "# Sample list : [8, 2, 3, -1, 7]\n",
    "#expected Output : -336\n",
    "\n",
    "def multiply(listt):\n",
    "    mul = 1\n",
    "    for i in listt:\n",
    "        mul = mul * i\n",
    "    return mul\n",
    "\n",
    "output = multiply([8, 2, 3, -1, 7])\n",
    "print(output)"
   ]
  },
  {
   "cell_type": "code",
   "execution_count": 51,
   "id": "910e2fdf",
   "metadata": {},
   "outputs": [
    {
     "data": {
      "text/plain": [
       "'amasU'"
      ]
     },
     "execution_count": 51,
     "metadata": {},
     "output_type": "execute_result"
    }
   ],
   "source": [
    "# write a python program to reverse a string\n",
    "\n",
    "def reverse(str):\n",
    "    return str[::-1]\n",
    "reverse(\"Usama\")"
   ]
  },
  {
   "cell_type": "markdown",
   "id": "b68af5bc",
   "metadata": {},
   "source": [
    "###  Local  VS Global variables"
   ]
  },
  {
   "cell_type": "code",
   "execution_count": 55,
   "id": "8e17d6e8",
   "metadata": {},
   "outputs": [
    {
     "name": "stdout",
     "output_type": "stream",
     "text": [
      "M\n"
     ]
    },
    {
     "data": {
      "text/plain": [
       "'Usama'"
      ]
     },
     "execution_count": 55,
     "metadata": {},
     "output_type": "execute_result"
    }
   ],
   "source": [
    "l_name = \"Usama\"\n",
    "def details():\n",
    "    f_name = \"M\"\n",
    "    l_name = \"Usama\"\n",
    "    print(f_name)\n",
    "    \n",
    "details()\n",
    "l_name"
   ]
  },
  {
   "cell_type": "code",
   "execution_count": 57,
   "id": "00c0def3",
   "metadata": {},
   "outputs": [
    {
     "name": "stdout",
     "output_type": "stream",
     "text": [
      "M\n"
     ]
    },
    {
     "data": {
      "text/plain": [
       "'M'"
      ]
     },
     "execution_count": 57,
     "metadata": {},
     "output_type": "execute_result"
    }
   ],
   "source": [
    "def details():\n",
    "    global f_name\n",
    "    f_name = \"M\"\n",
    "    l_name = \"Usama\"\n",
    "    print(f_name)\n",
    "    \n",
    "details()\n",
    "f_name"
   ]
  },
  {
   "cell_type": "markdown",
   "id": "30987385",
   "metadata": {},
   "source": [
    "###  Functions within functions"
   ]
  },
  {
   "cell_type": "code",
   "execution_count": 62,
   "id": "d5ada365",
   "metadata": {},
   "outputs": [
    {
     "name": "stdout",
     "output_type": "stream",
     "text": [
      "6\n"
     ]
    }
   ],
   "source": [
    "def is_even(number):\n",
    "    if number % 2 == 0:\n",
    "        return number \n",
    "    else:\n",
    "        return \"number is odd\"\n",
    "    \n",
    "    def factorial(number):\n",
    "        result = 1\n",
    "        for i in range(1, number + 1):\n",
    "            result *= i\n",
    "            return result\n",
    "output = is_even(6)\n",
    "print(output)"
   ]
  },
  {
   "cell_type": "code",
   "execution_count": null,
   "id": "0871a2ed",
   "metadata": {},
   "outputs": [],
   "source": []
  }
 ],
 "metadata": {
  "kernelspec": {
   "display_name": "Python 3 (ipykernel)",
   "language": "python",
   "name": "python3"
  },
  "language_info": {
   "codemirror_mode": {
    "name": "ipython",
    "version": 3
   },
   "file_extension": ".py",
   "mimetype": "text/x-python",
   "name": "python",
   "nbconvert_exporter": "python",
   "pygments_lexer": "ipython3",
   "version": "3.10.8"
  }
 },
 "nbformat": 4,
 "nbformat_minor": 5
}
