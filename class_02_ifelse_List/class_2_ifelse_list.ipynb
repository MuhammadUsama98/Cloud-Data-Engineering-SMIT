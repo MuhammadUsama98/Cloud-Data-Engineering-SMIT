{
 "cells": [
  {
   "cell_type": "markdown",
   "id": "82f3d4ef",
   "metadata": {},
   "source": [
    "## Conditional statement\n"
   ]
  },
  {
   "cell_type": "raw",
   "id": "bfb8524c",
   "metadata": {},
   "source": [
    "synatx:\n",
    "--------\n",
    "if <condition>:\n",
    "    body\n",
    "else:\n",
    "    body\n",
    "- body of if-else always have 4 spaces/indented\n",
    "- after colon, body will start\n"
   ]
  },
  {
   "cell_type": "code",
   "execution_count": 2,
   "id": "1b36cf45",
   "metadata": {},
   "outputs": [
    {
     "name": "stdout",
     "output_type": "stream",
     "text": [
      "True\n",
      "False\n",
      "True\n",
      "True\n",
      "False\n"
     ]
    }
   ],
   "source": [
    "# conditions operators >, <, >=, <=, !=, ==\n",
    "\n",
    "print(\"usama\" == \"usama\")\n",
    "print(\"usama\" == \"qasim\")\n",
    "print(18 >= 2)\n",
    "print(34 <= 34)\n",
    "print(2 != 2)\n"
   ]
  },
  {
   "cell_type": "code",
   "execution_count": 11,
   "id": "99d4a6b5",
   "metadata": {},
   "outputs": [
    {
     "name": "stdout",
     "output_type": "stream",
     "text": [
      "tranier\n"
     ]
    }
   ],
   "source": [
    "name = \"qasim\"\n",
    "if name == \"qasim\":\n",
    "    print(\"tranier\")\n",
    "else:\n",
    "    print(\"student\")"
   ]
  },
  {
   "cell_type": "code",
   "execution_count": 10,
   "id": "fecdb3b2",
   "metadata": {},
   "outputs": [
    {
     "name": "stdout",
     "output_type": "stream",
     "text": [
      "True\n",
      "False\n",
      "True\n",
      "False\n",
      "False\n",
      "True\n"
     ]
    }
   ],
   "source": [
    "# logical operators AND, OR, NOT\n",
    "\n",
    "# AND OPERATOR\n",
    "print(\"usama\" == \"usama\" and \"usama\" != \"qasim\") # TRUE AND TRUE => TRUE\n",
    "print(\"usama\" == \"usama\" and \"usama\" == \"qasim\") # TRUE AND FASLE => FALSE\n",
    "\n",
    "# OR OPERATOR\n",
    "print(\"usama\" == \"usama\" or \"usama\" != \"qasim\") # \n",
    "print(\"usama\" != \"usama\" or \"usama\" == \"qasim\")\n",
    "\n",
    "# NOT OPERATOR\n",
    "print(not True)\n",
    "print(not False)"
   ]
  },
  {
   "cell_type": "code",
   "execution_count": 12,
   "id": "4953b00e",
   "metadata": {},
   "outputs": [
    {
     "name": "stdout",
     "output_type": "stream",
     "text": [
      "tranier\n"
     ]
    }
   ],
   "source": [
    "name = \"qasim\"\n",
    "if name == \"qasim\":\n",
    "    print(\"tranier\")\n",
    "elif name == \"Shan\":\n",
    "    print(\"staff\")\n",
    "else:\n",
    "    print(\"student\")"
   ]
  },
  {
   "cell_type": "code",
   "execution_count": 17,
   "id": "3c97d49d",
   "metadata": {},
   "outputs": [
    {
     "name": "stdout",
     "output_type": "stream",
     "text": [
      "enter any number 5\n",
      "odd number\n"
     ]
    }
   ],
   "source": [
    "num = int(input(\"enter any number \"))\n",
    "if num % 2 == 0:\n",
    "    print(num, \" is even number\")\n",
    "else:\n",
    "    print(num, \" is odd number\")"
   ]
  },
  {
   "cell_type": "raw",
   "id": "cbda4326",
   "metadata": {},
   "source": [
    "1. A company decided to give bonus of 5% to employee if his/her year of service is more than 5 years. Ask user for their salary and year of service and print the net bonus amount."
   ]
  },
  {
   "cell_type": "code",
   "execution_count": 31,
   "id": "3c1e7ad6",
   "metadata": {},
   "outputs": [
    {
     "name": "stdout",
     "output_type": "stream",
     "text": [
      "enter your salary 50000\n",
      "enter your experience 5\n",
      "you get an increment of  2500.0\n"
     ]
    }
   ],
   "source": [
    "salary = int(input(\"enter your salary \"))\n",
    "experience = int(input(\"enter your experience \"))\n",
    "if experience == 5 and salary == 50000:\n",
    "    print(\"you get an increment of \", 0.05 * salary)\n",
    "else:\n",
    "    print(\"no increment\")"
   ]
  },
  {
   "cell_type": "raw",
   "id": "5deb325c",
   "metadata": {},
   "source": [
    "2. Write a program to check whether a person is eligible for voting or not. (accept age from user) if age is greater than 18 eligible otherwise not eligible."
   ]
  },
  {
   "cell_type": "code",
   "execution_count": 30,
   "id": "9bb5c855",
   "metadata": {},
   "outputs": [
    {
     "name": "stdout",
     "output_type": "stream",
     "text": [
      "enter your age 18\n",
      "you are eligible to vote\n"
     ]
    }
   ],
   "source": [
    "age = int(float(input(\"enter your age \")))\n",
    "if age >= 18:\n",
    "    print(\"you are eligible to vote\")\n",
    "else:\n",
    "    print(\"not eligible\")"
   ]
  },
  {
   "cell_type": "raw",
   "id": "81ddff72",
   "metadata": {},
   "source": [
    "3. Write a program to display \"Hello\" if a number entered by user is a multiple of five , otherwise print \"Bye\"."
   ]
  },
  {
   "cell_type": "code",
   "execution_count": 33,
   "id": "74d6dbf9",
   "metadata": {},
   "outputs": [
    {
     "name": "stdout",
     "output_type": "stream",
     "text": [
      "enter any number 3\n",
      "Bye\n"
     ]
    }
   ],
   "source": [
    "number = int(input(\"enter any number \"))\n",
    "if number % 5 == 0:\n",
    "    print(\"Hello\")\n",
    "else:\n",
    "    print(\"Bye\")"
   ]
  },
  {
   "cell_type": "raw",
   "id": "10ce1d0f",
   "metadata": {},
   "source": [
    "4. \n",
    "    A school has following rules for grading system:\n",
    "\n",
    "a. Below 25 - F\n",
    "\n",
    "b. 25 to 45 - E\n",
    "\n",
    "c. 45 to 50 - D\n",
    "\n",
    "d. 50 to 60 - C\n",
    "\n",
    "e. 60 to 80 - B\n",
    "\n",
    "f. Above 80 - A\n",
    "\n",
    "Ask user to enter marks and print the corresponding grade"
   ]
  },
  {
   "cell_type": "code",
   "execution_count": 42,
   "id": "1ab8419e",
   "metadata": {},
   "outputs": [
    {
     "name": "stdout",
     "output_type": "stream",
     "text": [
      "enter your marks 25\n",
      "E\n"
     ]
    }
   ],
   "source": [
    "marks = int(input(\"enter your marks \"))\n",
    "if marks < 25:\n",
    "    print(\"F\")\n",
    "elif marks >= 25 and marks <= 45:\n",
    "    print(\"E\")\n",
    "elif marks >= 45 and marks <= 50:\n",
    "    print(\"D\")\n",
    "elif marks >= 50 and marks <= 60:\n",
    "    print(\"C\")\n",
    "elif marks >= 60 and marks <=80:\n",
    "    print(\"B\")\n",
    "elif marks > 80 and marks <=100:\n",
    "    print(\"A\")\n",
    "else:\n",
    "    print(\"invalid number\")"
   ]
  },
  {
   "cell_type": "markdown",
   "id": "6839114a",
   "metadata": {},
   "source": [
    "##  Nested If-else statements"
   ]
  },
  {
   "cell_type": "code",
   "execution_count": 44,
   "id": "a94e252f",
   "metadata": {},
   "outputs": [
    {
     "name": "stdout",
     "output_type": "stream",
     "text": [
      "enter your nationality us\n",
      "should be Pakistani citizen to cast vote\n"
     ]
    }
   ],
   "source": [
    "nationality = input(\"enter your nationality \")\n",
    "if nationality.lower() == \"pakistani\":\n",
    "    age = int(input(\"enter your age \"))\n",
    "    if age >= 18:\n",
    "        print(\"you are eligible to vote\")\n",
    "    else:\n",
    "        print(\"not eligible\")\n",
    "else:\n",
    "    print(\"should be Pakistani citizen to cast vote\")"
   ]
  },
  {
   "cell_type": "code",
   "execution_count": 47,
   "id": "6d162c0f",
   "metadata": {},
   "outputs": [
    {
     "name": "stdout",
     "output_type": "stream",
     "text": [
      "enter your age 10\n",
      "enter your gender (F or M) m\n",
      "enter your marital status (Y or N) n\n",
      "age should be greater than or equal to 20\n"
     ]
    }
   ],
   "source": [
    "age = int(input(\"enter your age \"))\n",
    "gender = input(\"enter your gender (F or M) \")\n",
    "marital_status = input(\"enter your marital status (Y or N) \")\n",
    "if gender.upper() == \"F\":\n",
    "    print(\"work in only urban ares\")\n",
    "else:\n",
    "    if age >= 40 and age <= 60:\n",
    "        print(\"can work in urban areas only\")\n",
    "    elif age >= 20 and age < 40:\n",
    "        print(\"can work anywhere\")\n",
    "    else:\n",
    "        print(\"your are either under age or should get retired\")"
   ]
  },
  {
   "cell_type": "markdown",
   "id": "61c8e330",
   "metadata": {},
   "source": [
    "## Comments"
   ]
  },
  {
   "cell_type": "code",
   "execution_count": 48,
   "id": "17ab1e37",
   "metadata": {},
   "outputs": [
    {
     "data": {
      "text/plain": [
       "'\\nthis is also comment\\nanother comment\\n'"
      ]
     },
     "execution_count": 48,
     "metadata": {},
     "output_type": "execute_result"
    }
   ],
   "source": [
    "# this is a single line comment\n",
    "'''\n",
    "this is also comment\n",
    "another comment\n",
    "'''"
   ]
  },
  {
   "cell_type": "markdown",
   "id": "ed8ab6b3",
   "metadata": {},
   "source": [
    "## Lists"
   ]
  },
  {
   "cell_type": "code",
   "execution_count": 51,
   "id": "855e97f5",
   "metadata": {},
   "outputs": [
    {
     "data": {
      "text/plain": [
       "'lahore'"
      ]
     },
     "execution_count": 51,
     "metadata": {},
     "output_type": "execute_result"
    }
   ],
   "source": [
    "# list always starts with [] \n",
    "# values can be separated by ,\n",
    "cities = [\"karachi\", 'lahore', 'islamabad', 'peshawar']\n",
    "cities[1]"
   ]
  },
  {
   "cell_type": "code",
   "execution_count": 53,
   "id": "a6f8111c",
   "metadata": {},
   "outputs": [
    {
     "data": {
      "text/plain": [
       "['lahore', 'islamabad', 'peshawar']"
      ]
     },
     "execution_count": 53,
     "metadata": {},
     "output_type": "execute_result"
    }
   ],
   "source": [
    "#          -4          -3            -2           -1\n",
    "cities = [\"karachi\", 'lahore', 'islamabad', 'peshawar']\n",
    "#           0           1           2           3\n",
    "# list slicing\n",
    "cities[-1]\n",
    "cities[1:]\n",
    "cities[2:3] # last value is exclusive"
   ]
  },
  {
   "cell_type": "markdown",
   "id": "8580382d",
   "metadata": {},
   "source": [
    "## Lists: Adding and changing elements"
   ]
  },
  {
   "cell_type": "code",
   "execution_count": 55,
   "id": "50fa8375",
   "metadata": {},
   "outputs": [
    {
     "data": {
      "text/plain": [
       "['faisalabad', 'lahore', 'islamabad', 'peshawar']"
      ]
     },
     "execution_count": 55,
     "metadata": {},
     "output_type": "execute_result"
    }
   ],
   "source": [
    "cities[0] = \"faisalabad\"\n",
    "cities"
   ]
  },
  {
   "cell_type": "code",
   "execution_count": 56,
   "id": "f831d842",
   "metadata": {},
   "outputs": [
    {
     "data": {
      "text/plain": [
       "['faisalabad', 'lahore', 'islamabad', 'peshawar', 'khanpur']"
      ]
     },
     "execution_count": 56,
     "metadata": {},
     "output_type": "execute_result"
    }
   ],
   "source": [
    "cities.append(\"khanpur\")\n",
    "cities"
   ]
  },
  {
   "cell_type": "code",
   "execution_count": 58,
   "id": "c2b54866",
   "metadata": {},
   "outputs": [
    {
     "data": {
      "text/plain": [
       "['faisalabad',\n",
       " 'lahore',\n",
       " 'islamabad',\n",
       " 'peshawar',\n",
       " 'khanpur',\n",
       " 'larkana',\n",
       " 'larkana']"
      ]
     },
     "execution_count": 58,
     "metadata": {},
     "output_type": "execute_result"
    }
   ],
   "source": [
    "city = 'larkana'\n",
    "cities = cities + [city]\n",
    "cities"
   ]
  },
  {
   "cell_type": "markdown",
   "id": "64e601b9",
   "metadata": {},
   "source": [
    "## Deleting and removing elements"
   ]
  },
  {
   "cell_type": "code",
   "execution_count": 60,
   "id": "74882b67",
   "metadata": {},
   "outputs": [
    {
     "data": {
      "text/plain": [
       "['faisalabad', 'lahore', 'islamabad', 'peshawar', 'khanpur']"
      ]
     },
     "execution_count": 60,
     "metadata": {},
     "output_type": "execute_result"
    }
   ],
   "source": [
    "del cities[-1]\n",
    "cities"
   ]
  },
  {
   "cell_type": "code",
   "execution_count": 64,
   "id": "9fd9ffc7",
   "metadata": {},
   "outputs": [
    {
     "data": {
      "text/plain": [
       "['faisalabad', 'lahore', 'islamabad', 'peshawar']"
      ]
     },
     "execution_count": 64,
     "metadata": {},
     "output_type": "execute_result"
    }
   ],
   "source": [
    "cities.remove(\"khanpur\")\n",
    "cities"
   ]
  },
  {
   "cell_type": "markdown",
   "id": "67e9c743",
   "metadata": {},
   "source": [
    "##  Popping elements"
   ]
  },
  {
   "cell_type": "code",
   "execution_count": 66,
   "id": "89f5a9be",
   "metadata": {},
   "outputs": [
    {
     "data": {
      "text/plain": [
       "'peshawar'"
      ]
     },
     "execution_count": 66,
     "metadata": {},
     "output_type": "execute_result"
    }
   ],
   "source": [
    "cities.pop()"
   ]
  },
  {
   "cell_type": "code",
   "execution_count": 67,
   "id": "d0cb77c3",
   "metadata": {},
   "outputs": [
    {
     "data": {
      "text/plain": [
       "'lahore'"
      ]
     },
     "execution_count": 67,
     "metadata": {},
     "output_type": "execute_result"
    }
   ],
   "source": [
    "cities.pop(1)"
   ]
  },
  {
   "cell_type": "code",
   "execution_count": 68,
   "id": "05b759dd",
   "metadata": {},
   "outputs": [
    {
     "data": {
      "text/plain": [
       "['faisalabad', 'islamabad']"
      ]
     },
     "execution_count": 68,
     "metadata": {},
     "output_type": "execute_result"
    }
   ],
   "source": [
    "cities"
   ]
  },
  {
   "cell_type": "code",
   "execution_count": 73,
   "id": "378ba597",
   "metadata": {},
   "outputs": [],
   "source": [
    "task_done = []\n",
    "task = ['study', 'meeting', 'play']\n",
    "task_done.append(task.pop())"
   ]
  },
  {
   "cell_type": "code",
   "execution_count": 72,
   "id": "19545111",
   "metadata": {},
   "outputs": [
    {
     "data": {
      "text/plain": [
       "['play']"
      ]
     },
     "execution_count": 72,
     "metadata": {},
     "output_type": "execute_result"
    }
   ],
   "source": [
    "task_done"
   ]
  },
  {
   "cell_type": "code",
   "execution_count": 74,
   "id": "2400eb2f",
   "metadata": {},
   "outputs": [],
   "source": [
    "task_done.insert(1,task.pop(1))"
   ]
  },
  {
   "cell_type": "code",
   "execution_count": 75,
   "id": "88cc9ceb",
   "metadata": {},
   "outputs": [
    {
     "data": {
      "text/plain": [
       "['play', 'meeting']"
      ]
     },
     "execution_count": 75,
     "metadata": {},
     "output_type": "execute_result"
    }
   ],
   "source": [
    "task_done"
   ]
  },
  {
   "cell_type": "code",
   "execution_count": null,
   "id": "77f8acbc",
   "metadata": {},
   "outputs": [],
   "source": [
    ".clear\n",
    "."
   ]
  }
 ],
 "metadata": {
  "kernelspec": {
   "display_name": "Python 3 (ipykernel)",
   "language": "python",
   "name": "python3"
  },
  "language_info": {
   "codemirror_mode": {
    "name": "ipython",
    "version": 3
   },
   "file_extension": ".py",
   "mimetype": "text/x-python",
   "name": "python",
   "nbconvert_exporter": "python",
   "pygments_lexer": "ipython3",
   "version": "3.10.8"
  }
 },
 "nbformat": 4,
 "nbformat_minor": 5
}
