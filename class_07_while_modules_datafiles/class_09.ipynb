{
 "cells": [
  {
   "cell_type": "markdown",
   "id": "e0686a3f",
   "metadata": {},
   "source": [
    "# While loop"
   ]
  },
  {
   "cell_type": "raw",
   "id": "24e431a2",
   "metadata": {},
   "source": [
    "Synatx:\n",
    "    \n",
    "while <cond-true>:\n",
    "    body"
   ]
  },
  {
   "cell_type": "code",
   "execution_count": null,
   "id": "a00f226c",
   "metadata": {},
   "outputs": [],
   "source": [
    "clean_cities = [\"Karachi\", \"Islamabad\", \"Lahore\"]\n",
    "temp = True\n",
    "while temp:\n",
    "    city = input(\"enter a city name : \")\n",
    "    if city in clean_cities:\n",
    "        print(f\"{city} is a clean city \")\n",
    "        temp = False\n",
    "    else:\n",
    "        print(f\"{city} is not a clean city \")"
   ]
  },
  {
   "cell_type": "code",
   "execution_count": null,
   "id": "5f90c11f",
   "metadata": {
    "scrolled": false
   },
   "outputs": [],
   "source": [
    "num = int(input(\"enter any number \"))\n",
    "temp = True\n",
    "while temp:\n",
    "    mul = 1\n",
    "    for i in range(1, num + 1):\n",
    "        mul *= i\n",
    "    print(mul)\n",
    "    temp = False"
   ]
  },
  {
   "cell_type": "code",
   "execution_count": null,
   "id": "e4f0e2e8",
   "metadata": {},
   "outputs": [],
   "source": [
    "# write a program to enter the number till the user enter 0 and at the end it should display the count\n",
    "# of positive and negative numbers entered.\n",
    "temp = True\n",
    "while temp:\n",
    "    sum = 0\n",
    "    number = int(input(\"enter any number \"))\n",
    "    if number != 0:\n",
    "        sum += number\n",
    "    else:\n",
    "        temp = False\n",
    "print(sum)\n",
    "    \n"
   ]
  },
  {
   "cell_type": "markdown",
   "id": "dbe7e33a",
   "metadata": {},
   "source": [
    "# Data Files:\n"
   ]
  },
  {
   "cell_type": "code",
   "execution_count": null,
   "id": "e5e2bdd2",
   "metadata": {},
   "outputs": [],
   "source": [
    "with open('../class_09/file handling.txt', 'w') as file:\n",
    "    file.write(\"writing into the file with w as input\")"
   ]
  },
  {
   "cell_type": "code",
   "execution_count": null,
   "id": "89162714",
   "metadata": {},
   "outputs": [],
   "source": [
    "with open('../class_09/file handling.txt', 'a') as file:\n",
    "    file.write(\"\\nwriting into the file with a as input\")"
   ]
  },
  {
   "cell_type": "code",
   "execution_count": null,
   "id": "ffbdc6cd",
   "metadata": {},
   "outputs": [],
   "source": [
    "with open('../class_09/file handling.txt', 'a') as file:\n",
    "    print(\"writing into the file with a as input\", file = file)"
   ]
  },
  {
   "cell_type": "code",
   "execution_count": null,
   "id": "074f026c",
   "metadata": {},
   "outputs": [],
   "source": [
    "with open('../class_09/file handling.txt', 'r') as file:\n",
    "    file_content = file.read()\n",
    "    print(file_content)"
   ]
  },
  {
   "cell_type": "code",
   "execution_count": null,
   "id": "6bc6d397",
   "metadata": {},
   "outputs": [],
   "source": [
    "# write a python program to count the number of lines in text file.\n",
    "with open('../class_09/file handling.txt', 'r') as file:\n",
    "    file_content = file.read()\n",
    "    print(file_content)\n",
    "    count = len(file.readlines())\n",
    "    print(type(count))"
   ]
  },
  {
   "cell_type": "code",
   "execution_count": null,
   "id": "aa0b5b79",
   "metadata": {},
   "outputs": [],
   "source": [
    "# program to copy content of a file to another file:\n",
    "with open('../class_09/file handling.txt', 'r') as file:\n",
    "    file_content = file.read()\n",
    "    print(file_content)\n",
    "with open('../class_09/anotherfile.txt', 'x') as new_file:\n",
    "    new_file.write(file_content)"
   ]
  },
  {
   "cell_type": "code",
   "execution_count": null,
   "id": "1c3116a7",
   "metadata": {},
   "outputs": [],
   "source": [
    "#program to replace () with [] in a file.\n",
    "with open('../class_09/file handling.txt', 'r') as file:\n",
    "    file_content = file.read().replace(\"()\", \"[]\")\n",
    "    with open('../class_09/file handling.txt', 'w') as file:\n",
    "        file.write(file_content)"
   ]
  },
  {
   "cell_type": "markdown",
   "id": "eff3d77b",
   "metadata": {},
   "source": [
    "### Read and write mode in python with 'w+'"
   ]
  },
  {
   "cell_type": "code",
   "execution_count": null,
   "id": "b34d681e",
   "metadata": {},
   "outputs": [],
   "source": [
    "with open()"
   ]
  },
  {
   "cell_type": "markdown",
   "id": "00c333be",
   "metadata": {},
   "source": [
    "# Modules"
   ]
  },
  {
   "cell_type": "code",
   "execution_count": 1,
   "id": "41a986e7",
   "metadata": {},
   "outputs": [
    {
     "name": "stdout",
     "output_type": "stream",
     "text": [
      "enter your salary50000\n"
     ]
    },
    {
     "data": {
      "text/plain": [
       "57500.0"
      ]
     },
     "execution_count": 1,
     "metadata": {},
     "output_type": "execute_result"
    }
   ],
   "source": [
    "from calculations import calculate_salary\n",
    "salary = float(input(\"enter your salary\"))\n",
    "calculate_salary(salary=salary)"
   ]
  },
  {
   "cell_type": "markdown",
   "id": "020a586b",
   "metadata": {},
   "source": [
    "### CSV Files"
   ]
  },
  {
   "cell_type": "markdown",
   "id": "2c3109d4",
   "metadata": {},
   "source": [
    "- comma separated files"
   ]
  },
  {
   "cell_type": "code",
   "execution_count": null,
   "id": "7cc2b3f3",
   "metadata": {},
   "outputs": [],
   "source": []
  }
 ],
 "metadata": {
  "kernelspec": {
   "display_name": "Python 3 (ipykernel)",
   "language": "python",
   "name": "python3"
  },
  "language_info": {
   "codemirror_mode": {
    "name": "ipython",
    "version": 3
   },
   "file_extension": ".py",
   "mimetype": "text/x-python",
   "name": "python",
   "nbconvert_exporter": "python",
   "pygments_lexer": "ipython3",
   "version": "3.10.8"
  }
 },
 "nbformat": 4,
 "nbformat_minor": 5
}
