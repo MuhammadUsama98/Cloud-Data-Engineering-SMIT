{
 "cells": [
  {
   "cell_type": "markdown",
   "id": "39b86a9f",
   "metadata": {},
   "source": [
    "## Tuples"
   ]
  },
  {
   "cell_type": "markdown",
   "id": "84fa8ae6",
   "metadata": {},
   "source": [
    "- start with ()\n",
    "- tupple is immutable.\n",
    "- ordered elements.\n",
    "- multiple data types can be used."
   ]
  },
  {
   "cell_type": "code",
   "execution_count": 6,
   "id": "e0afea8f",
   "metadata": {},
   "outputs": [
    {
     "name": "stdout",
     "output_type": "stream",
     "text": [
      "<class 'tuple'>\n"
     ]
    }
   ],
   "source": [
    "cities = (\"Karachi\", \"lahore\", \"Islamabad\")\n",
    "cities\n",
    "print(type(cities))\n"
   ]
  },
  {
   "cell_type": "code",
   "execution_count": 2,
   "id": "98d4f6bb",
   "metadata": {},
   "outputs": [
    {
     "data": {
      "text/plain": [
       "(1, 'usama', 23.4, True)"
      ]
     },
     "execution_count": 2,
     "metadata": {},
     "output_type": "execute_result"
    }
   ],
   "source": [
    "first_tupple = (1, \"usama\", 23.4, True)\n",
    "first_tupple"
   ]
  },
  {
   "cell_type": "code",
   "execution_count": 3,
   "id": "6344cc4c",
   "metadata": {},
   "outputs": [
    {
     "name": "stdout",
     "output_type": "stream",
     "text": [
      "<class 'tuple'>\n"
     ]
    }
   ],
   "source": [
    "print(type(first_tupple))"
   ]
  },
  {
   "cell_type": "code",
   "execution_count": 5,
   "id": "e0c07eca",
   "metadata": {},
   "outputs": [
    {
     "name": "stdout",
     "output_type": "stream",
     "text": [
      "<class 'tuple'>\n"
     ]
    }
   ],
   "source": [
    "single_tuple = (1,) # to make it tuple use comma like (1,)\n",
    "print(type(single_tuple))"
   ]
  },
  {
   "cell_type": "markdown",
   "id": "11f50fc4",
   "metadata": {},
   "source": [
    "### Tupple Slicing"
   ]
  },
  {
   "cell_type": "markdown",
   "id": "691e021f",
   "metadata": {},
   "source": [
    "- tuple[start:stop:step]\n",
    "- start: The index where the slicing starts (inclusive). If omitted, defaults to the beginning of the tuple.\n",
    "- stop: The index where the slicing stops (exclusive). If omitted, defaults to the end of the tuple.\n",
    "- step: The step size between elements. If omitted, defaults to 1."
   ]
  },
  {
   "cell_type": "code",
   "execution_count": 8,
   "id": "cb2296a5",
   "metadata": {},
   "outputs": [
    {
     "name": "stdout",
     "output_type": "stream",
     "text": [
      "('Karachi', 'lahore', 'Islamabad')\n"
     ]
    }
   ],
   "source": [
    "print(cities[0:])"
   ]
  },
  {
   "cell_type": "code",
   "execution_count": 19,
   "id": "5d3858d6",
   "metadata": {},
   "outputs": [
    {
     "name": "stdout",
     "output_type": "stream",
     "text": [
      "('Karachi', 'lahore')\n"
     ]
    }
   ],
   "source": [
    "print(cities[:-1])"
   ]
  },
  {
   "cell_type": "code",
   "execution_count": 20,
   "id": "9177973b",
   "metadata": {},
   "outputs": [
    {
     "name": "stdout",
     "output_type": "stream",
     "text": [
      "('Islamabad', 'lahore', 'Karachi')\n"
     ]
    }
   ],
   "source": [
    "print(cities[-1::-1])"
   ]
  },
  {
   "cell_type": "code",
   "execution_count": 21,
   "id": "391c17af",
   "metadata": {},
   "outputs": [],
   "source": [
    "import sys"
   ]
  },
  {
   "cell_type": "code",
   "execution_count": 22,
   "id": "f152c095",
   "metadata": {},
   "outputs": [
    {
     "name": "stdout",
     "output_type": "stream",
     "text": [
      "88\n",
      "72\n"
     ]
    }
   ],
   "source": [
    "list_1 = [\"Karachi\", \"Lahore\", \"Islamabad\", \"Kotri\"]\n",
    "tupple_2 = (\"Karachi\", \"Lahore\", \"Islamabad\", \"Kotri\")\n",
    "print(sys.getsizeof(list_1))\n",
    "print(sys.getsizeof(tupple_2))\n",
    "# tupple is more faster and efficient"
   ]
  },
  {
   "cell_type": "code",
   "execution_count": 24,
   "id": "028983eb",
   "metadata": {},
   "outputs": [
    {
     "data": {
      "text/plain": [
       "0"
      ]
     },
     "execution_count": 24,
     "metadata": {},
     "output_type": "execute_result"
    }
   ],
   "source": [
    "list_1.count(\"Karachi\")\n",
    "list_1.index(\"Karachi\")"
   ]
  },
  {
   "cell_type": "markdown",
   "id": "0560a6ad",
   "metadata": {},
   "source": [
    "##  Nested Tupple"
   ]
  },
  {
   "cell_type": "markdown",
   "id": "06fd546c",
   "metadata": {},
   "source": [
    "- [1,2, [1, 2, 3, 4], 3, 4] nested list\n",
    "- (1,2, (1, 2, 3, 4), 3, 4) nested tupple"
   ]
  },
  {
   "cell_type": "code",
   "execution_count": 27,
   "id": "d18f2ca6",
   "metadata": {},
   "outputs": [
    {
     "name": "stdout",
     "output_type": "stream",
     "text": [
      "4\n"
     ]
    }
   ],
   "source": [
    "nested_tuple = (1,2, (1, 2, 3, 4), 3, 4)\n",
    "print(nested_tuple[2][3])"
   ]
  },
  {
   "cell_type": "markdown",
   "id": "75deddc9",
   "metadata": {},
   "source": [
    "## Sets"
   ]
  },
  {
   "cell_type": "markdown",
   "id": "41ec2fdf",
   "metadata": {},
   "source": [
    "- sets contain unique element\n",
    "- sets are unordered\n",
    "- we can not index"
   ]
  },
  {
   "cell_type": "code",
   "execution_count": 28,
   "id": "e97fca7a",
   "metadata": {},
   "outputs": [
    {
     "name": "stdout",
     "output_type": "stream",
     "text": [
      "{1, 2, 3, 4, 5}\n"
     ]
    }
   ],
   "source": [
    "first_set = {1, 2, 3, 4, 5, 5} # first method to define\n",
    "print(first_set)"
   ]
  },
  {
   "cell_type": "code",
   "execution_count": 30,
   "id": "efa886de",
   "metadata": {},
   "outputs": [
    {
     "name": "stdout",
     "output_type": "stream",
     "text": [
      "{1, 2, 3, 5, 6}\n"
     ]
    }
   ],
   "source": [
    "# 2nd method\n",
    "second_set = set([1, 2, 2, 3, 3, 6, 5])\n",
    "print(second_set)"
   ]
  },
  {
   "cell_type": "code",
   "execution_count": 31,
   "id": "75f0d54a",
   "metadata": {
    "collapsed": true
   },
   "outputs": [
    {
     "ename": "TypeError",
     "evalue": "'set' object is not subscriptable",
     "output_type": "error",
     "traceback": [
      "\u001b[1;31m---------------------------------------------------------------------------\u001b[0m",
      "\u001b[1;31mTypeError\u001b[0m                                 Traceback (most recent call last)",
      "Cell \u001b[1;32mIn[31], line 1\u001b[0m\n\u001b[1;32m----> 1\u001b[0m \u001b[43msecond_set\u001b[49m\u001b[43m[\u001b[49m\u001b[38;5;241;43m0\u001b[39;49m\u001b[43m]\u001b[49m\n",
      "\u001b[1;31mTypeError\u001b[0m: 'set' object is not subscriptable"
     ]
    }
   ],
   "source": [
    "second_set[0]"
   ]
  },
  {
   "cell_type": "markdown",
   "id": "43ad8ec8",
   "metadata": {},
   "source": [
    "##  For Loops"
   ]
  },
  {
   "cell_type": "raw",
   "id": "2d1bc3d2",
   "metadata": {},
   "source": [
    "# syntax \n",
    "for variable in iterator:\n",
    "    code block"
   ]
  },
  {
   "cell_type": "code",
   "execution_count": 34,
   "id": "4cf6ed0f",
   "metadata": {},
   "outputs": [
    {
     "name": "stdout",
     "output_type": "stream",
     "text": [
      "Karachi lahore Islamabad "
     ]
    }
   ],
   "source": [
    "for city in cities:\n",
    "    print(city, end = \" \") #by default end = /"
   ]
  },
  {
   "cell_type": "markdown",
   "id": "a46c65d3",
   "metadata": {},
   "source": [
    "- range\n",
    "- len"
   ]
  },
  {
   "cell_type": "code",
   "execution_count": 35,
   "id": "5cbde8da",
   "metadata": {},
   "outputs": [
    {
     "name": "stdout",
     "output_type": "stream",
     "text": [
      "3\n"
     ]
    }
   ],
   "source": [
    "print(len(cities))"
   ]
  },
  {
   "cell_type": "code",
   "execution_count": 36,
   "id": "5f2bb987",
   "metadata": {
    "collapsed": true
   },
   "outputs": [
    {
     "name": "stdout",
     "output_type": "stream",
     "text": [
      "0\n",
      "1\n",
      "2\n",
      "3\n",
      "4\n",
      "5\n",
      "6\n",
      "7\n",
      "8\n",
      "9\n"
     ]
    }
   ],
   "source": [
    "for i in range(10): # print 0 - 9\n",
    "    print(i)"
   ]
  },
  {
   "cell_type": "code",
   "execution_count": 37,
   "id": "0de336a0",
   "metadata": {
    "collapsed": true
   },
   "outputs": [
    {
     "name": "stdout",
     "output_type": "stream",
     "text": [
      "2\n",
      "3\n",
      "4\n",
      "5\n",
      "6\n",
      "7\n",
      "8\n",
      "9\n"
     ]
    }
   ],
   "source": [
    "for i in range(2, 10): # print 2 - 9\n",
    "    print(i)"
   ]
  },
  {
   "cell_type": "code",
   "execution_count": 38,
   "id": "050433f2",
   "metadata": {},
   "outputs": [
    {
     "name": "stdout",
     "output_type": "stream",
     "text": [
      "1\n",
      "3\n",
      "5\n",
      "7\n",
      "9\n"
     ]
    }
   ],
   "source": [
    "for i in range(1, 10, 2): # print 0 - 9\n",
    "    print(i)"
   ]
  },
  {
   "cell_type": "code",
   "execution_count": 44,
   "id": "9c5950c5",
   "metadata": {},
   "outputs": [
    {
     "name": "stdout",
     "output_type": "stream",
     "text": [
      "0 Karachi\n",
      "1 Lahore\n",
      "2 Islamabad\n",
      "3 Kotri\n"
     ]
    }
   ],
   "source": [
    "for i in range(len(list_1)):\n",
    "    print(i, list_1[i])"
   ]
  },
  {
   "cell_type": "code",
   "execution_count": 46,
   "id": "b5a203de",
   "metadata": {},
   "outputs": [
    {
     "name": "stdout",
     "output_type": "stream",
     "text": [
      "s\n",
      "a\n",
      "y\n",
      "l\n",
      "a\n",
      "n\n",
      "i\n",
      " \n",
      "c\n",
      "l\n",
      "o\n",
      "u\n",
      "d\n",
      " \n",
      "c\n",
      "l\n",
      "a\n",
      "s\n",
      "s\n"
     ]
    }
   ],
   "source": [
    "long_string = \"saylani cloud class\"\n",
    "for i in long_string:\n",
    "    print(i)"
   ]
  },
  {
   "cell_type": "raw",
   "id": "c379d35b",
   "metadata": {},
   "source": [
    "Take 5 input names, store them into a list and print one by one"
   ]
  },
  {
   "cell_type": "code",
   "execution_count": 51,
   "id": "586f0f4c",
   "metadata": {},
   "outputs": [
    {
     "name": "stdout",
     "output_type": "stream",
     "text": [
      "enter your name usama\n",
      "enter your name qasim\n",
      "enter your name aqib\n",
      "enter your name usman\n",
      "enter your name ali\n",
      "usama\n",
      "qasim\n",
      "aqib\n",
      "usman\n",
      "ali\n"
     ]
    }
   ],
   "source": [
    "names = []\n",
    "for i in range(5):\n",
    "    name = input(\"enter your name \")\n",
    "    names.append(name)\n",
    "for i in names:\n",
    "    print(names)"
   ]
  },
  {
   "cell_type": "markdown",
   "id": "4892e1cb",
   "metadata": {},
   "source": [
    "##  Nested Loops"
   ]
  },
  {
   "cell_type": "raw",
   "id": "dcf8692e",
   "metadata": {},
   "source": [
    "for ...:\n",
    "    for ...:\n",
    "        block of code"
   ]
  },
  {
   "cell_type": "code",
   "execution_count": 56,
   "id": "5f107170",
   "metadata": {},
   "outputs": [
    {
     "name": "stdout",
     "output_type": "stream",
     "text": [
      "[1, 2, 3, 4, 4]\n",
      "[3, 4, 5, 6, 8]\n",
      "['usama', 'ali', 'usman']\n"
     ]
    }
   ],
   "source": [
    "# elements in nested_list is 3\n",
    "nested_list = [[1, 2, 3, 4, 4], [3, 4, 5, 6, 8], [\"usama\", \"ali\", \"usman\"]]\n",
    "for i in nested_list:\n",
    "    print(i)"
   ]
  },
  {
   "cell_type": "code",
   "execution_count": 65,
   "id": "8d393efe",
   "metadata": {},
   "outputs": [
    {
     "name": "stdout",
     "output_type": "stream",
     "text": [
      "[1, 2, 3, 4, 4]\n",
      "1\n",
      "2\n",
      "3\n",
      "4\n",
      "4\n",
      "[3, 4, 5, 6, 8]\n",
      "3\n",
      "4\n",
      "5\n",
      "6\n",
      "8\n",
      "['usama', 'ali', 'usman']\n",
      "usama\n",
      "ali\n",
      "usman\n"
     ]
    }
   ],
   "source": [
    "for i in nested_list:\n",
    "    print(i)\n",
    "    for j in i:\n",
    "        print(j)"
   ]
  },
  {
   "cell_type": "raw",
   "id": "b63e7853",
   "metadata": {},
   "source": [
    "first loop 3 times:\n",
    "    first iteration\n",
    "    for j in nested_list:\n",
    "        this loop will execute 3 times"
   ]
  },
  {
   "cell_type": "code",
   "execution_count": 62,
   "id": "6dea98ab",
   "metadata": {},
   "outputs": [
    {
     "name": "stdout",
     "output_type": "stream",
     "text": [
      "1\n",
      "1 1\n",
      "1 2\n",
      "1 3\n",
      "2\n",
      "2 1\n",
      "2 2\n",
      "2 3\n",
      "3\n",
      "3 1\n",
      "3 2\n",
      "3 3\n"
     ]
    }
   ],
   "source": [
    "simple_list = [1, 2, 3]\n",
    "for i in simple_list:\n",
    "    print(i)\n",
    "    for j in simple_list:\n",
    "        print(i,j)"
   ]
  },
  {
   "cell_type": "code",
   "execution_count": 95,
   "id": "cc92e4fc",
   "metadata": {},
   "outputs": [
    {
     "name": "stdout",
     "output_type": "stream",
     "text": [
      "* * * * * * \n",
      "* * * * * * \n",
      "* * * * * * \n",
      "* * * * * * \n",
      "* * * * * * \n"
     ]
    }
   ],
   "source": [
    "for i in range(5):\n",
    "    for j in range(6):\n",
    "        print(\"*\", end = \" \")\n",
    "    print()"
   ]
  },
  {
   "cell_type": "code",
   "execution_count": 96,
   "id": "643ae6ed",
   "metadata": {},
   "outputs": [
    {
     "name": "stdout",
     "output_type": "stream",
     "text": [
      "* * * * * \n",
      "* * * * \n",
      "* * * \n",
      "* * \n",
      "* \n"
     ]
    }
   ],
   "source": [
    "n = 5\n",
    "for i in range(n):\n",
    "    for j in range(i, n):\n",
    "        print(\"*\", end = \" \")\n",
    "    print()"
   ]
  },
  {
   "cell_type": "code",
   "execution_count": 98,
   "id": "2361b80c",
   "metadata": {},
   "outputs": [
    {
     "name": "stdout",
     "output_type": "stream",
     "text": [
      "* \n",
      "* * \n",
      "* * * \n",
      "* * * * \n",
      "* * * * * \n"
     ]
    }
   ],
   "source": [
    "n = 5\n",
    "for i in range(n):\n",
    "    for j in range(0, i + 1):\n",
    "        print(\"*\", end = \" \")\n",
    "    print()"
   ]
  },
  {
   "cell_type": "markdown",
   "id": "0e02becf",
   "metadata": {},
   "source": [
    "## Conditional Statements "
   ]
  },
  {
   "cell_type": "markdown",
   "id": "1809b9b7",
   "metadata": {},
   "source": [
    "- break"
   ]
  },
  {
   "cell_type": "code",
   "execution_count": 99,
   "id": "ad104a38",
   "metadata": {},
   "outputs": [
    {
     "name": "stdout",
     "output_type": "stream",
     "text": [
      "0\n",
      "1\n",
      "2\n",
      "3\n"
     ]
    }
   ],
   "source": [
    "for i in range(10):\n",
    "    print(i)\n",
    "    if i == 3:\n",
    "        break"
   ]
  },
  {
   "cell_type": "markdown",
   "id": "5d55d65e",
   "metadata": {},
   "source": [
    "- continue"
   ]
  },
  {
   "cell_type": "code",
   "execution_count": 101,
   "id": "b6080b0d",
   "metadata": {},
   "outputs": [
    {
     "name": "stdout",
     "output_type": "stream",
     "text": [
      "0\n",
      "1\n",
      "2\n",
      "4\n",
      "5\n",
      "6\n",
      "7\n",
      "8\n",
      "9\n"
     ]
    }
   ],
   "source": [
    "for i in range(10):\n",
    "    if i == 3:\n",
    "        continue\n",
    "    print(i)"
   ]
  },
  {
   "cell_type": "code",
   "execution_count": 102,
   "id": "179144d6",
   "metadata": {},
   "outputs": [
    {
     "name": "stdout",
     "output_type": "stream",
     "text": [
      "0\n",
      "1\n",
      "2\n",
      "3\n"
     ]
    }
   ],
   "source": [
    "for i in range(4):\n",
    "    print(i)\n",
    "    continue\n",
    "    print(\"hello\")"
   ]
  },
  {
   "cell_type": "code",
   "execution_count": 104,
   "id": "10b394a4",
   "metadata": {},
   "outputs": [
    {
     "name": "stdout",
     "output_type": "stream",
     "text": [
      "0\n",
      "hello\n",
      "1\n",
      "hello\n",
      "2\n",
      "hello\n",
      "3\n",
      "4\n"
     ]
    }
   ],
   "source": [
    "for i in range(5):\n",
    "    print(i)\n",
    "    if i == 3 or i == 4:\n",
    "        continue\n",
    "    print(\"hello\")"
   ]
  },
  {
   "cell_type": "markdown",
   "id": "dd3f218d",
   "metadata": {},
   "source": [
    "## String methods"
   ]
  },
  {
   "cell_type": "code",
   "execution_count": null,
   "id": "1ed39914",
   "metadata": {},
   "outputs": [],
   "source": [
    "nam"
   ]
  },
  {
   "cell_type": "code",
   "execution_count": 6,
   "id": "33f2ebce",
   "metadata": {},
   "outputs": [
    {
     "name": "stdout",
     "output_type": "stream",
     "text": [
      "enter city name to check asdf\n",
      "not found\n"
     ]
    }
   ],
   "source": [
    "cleanest_cities = [\"Cheyenne\", \"Santa Fe\", \"Tucson\", \"Tucson\",\n",
    "\"Great Falls\", \"Honolulu\"]\n",
    "city_to_check = input(\"enter city name to check \")\n",
    "for a_clean_city in cleanest_cities:\n",
    "    if city_to_check == a_clean_city:\n",
    "        print(\"It's one of the cleanest cities\")\n",
    "else:\n",
    "    print(\"not found\")\n"
   ]
  },
  {
   "cell_type": "code",
   "execution_count": 8,
   "id": "ecd5d25e",
   "metadata": {},
   "outputs": [
    {
     "name": "stdout",
     "output_type": "stream",
     "text": [
      "BlueRay  Zzz\n",
      "BlueRay  Burp\n",
      "BlueRay  Dogbone\n",
      "BlueRay  Droop\n",
      "Upchuck  Zzz\n",
      "Upchuck  Burp\n",
      "Upchuck  Dogbone\n",
      "Upchuck  Droop\n",
      "Lojack  Zzz\n",
      "Lojack  Burp\n",
      "Lojack  Dogbone\n",
      "Lojack  Droop\n",
      "Gizmo  Zzz\n",
      "Gizmo  Burp\n",
      "Gizmo  Dogbone\n",
      "Gizmo  Droop\n",
      "Do-Rag  Zzz\n",
      "Do-Rag  Burp\n",
      "Do-Rag  Dogbone\n",
      "Do-Rag  Droop\n"
     ]
    }
   ],
   "source": [
    "first_names = [\"BlueRay \", \"Upchuck \", \"Lojack \",\n",
    "\"Gizmo \", \"Do-Rag \"]\n",
    "last_names = [\"Zzz\", \"Burp\", \"Dogbone\", \"Droop\"]\n",
    "full_names = []\n",
    "for a_first_name in first_names:\n",
    "    for a_last_name in last_names:\n",
    "        print(a_first_name + \" \" + a_last_name)\n",
    "        #full_names.append(a_first_name + \" \" + a_last_name)\n",
    "#print(full_names)"
   ]
  },
  {
   "cell_type": "code",
   "execution_count": null,
   "id": "96dd9424",
   "metadata": {},
   "outputs": [],
   "source": []
  }
 ],
 "metadata": {
  "kernelspec": {
   "display_name": "Python 3 (ipykernel)",
   "language": "python",
   "name": "python3"
  },
  "language_info": {
   "codemirror_mode": {
    "name": "ipython",
    "version": 3
   },
   "file_extension": ".py",
   "mimetype": "text/x-python",
   "name": "python",
   "nbconvert_exporter": "python",
   "pygments_lexer": "ipython3",
   "version": "3.10.8"
  }
 },
 "nbformat": 4,
 "nbformat_minor": 5
}
