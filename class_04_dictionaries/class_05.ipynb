{
 "cells": [
  {
   "cell_type": "markdown",
   "id": "b4c9da51",
   "metadata": {},
   "source": [
    "##  Dictionaries : what they are"
   ]
  },
  {
   "cell_type": "markdown",
   "id": "8b96b1ad",
   "metadata": {},
   "source": [
    "- list (collection of values, mutable)\n",
    "- Tuples (collection of values, immutable)\n",
    "- Dictionary (multiple collection of values)\n",
    "- key : values"
   ]
  },
  {
   "cell_type": "code",
   "execution_count": 2,
   "id": "21879e1d",
   "metadata": {},
   "outputs": [
    {
     "data": {
      "text/plain": [
       "{'f_name': 'Usama',\n",
       " 'l_usama': 'Muhammad',\n",
       " 'address': 'Landhi',\n",
       " 'order_price': '150'}"
      ]
     },
     "execution_count": 2,
     "metadata": {},
     "output_type": "execute_result"
    }
   ],
   "source": [
    "customer = {\"f_name\" : \"Usama\", \"l_usama\" : \"Muhammad\", \"address\" : \"Landhi\", \"order_price\" : \"150\"}\n",
    "customer"
   ]
  },
  {
   "cell_type": "code",
   "execution_count": 3,
   "id": "58f73e77",
   "metadata": {},
   "outputs": [
    {
     "data": {
      "text/plain": [
       "{'f_name': 'Usama',\n",
       " 'l_usama': 'Muhammad',\n",
       " 'address': 'Landhi',\n",
       " 'order_price': '150',\n",
       " 'order_item': 'shoes'}"
      ]
     },
     "execution_count": 3,
     "metadata": {},
     "output_type": "execute_result"
    }
   ],
   "source": [
    "# add value in dictionary\n",
    "customer[\"order_item\"] = \"shoes\"\n",
    "customer"
   ]
  },
  {
   "cell_type": "code",
   "execution_count": 4,
   "id": "b7d86a27",
   "metadata": {},
   "outputs": [],
   "source": [
    "customer_29876 = {\"first name\": \"David\", \"last name\": \"Elliott\", \"address\": \"4803 Wellesley St.\"}\n"
   ]
  },
  {
   "cell_type": "code",
   "execution_count": 8,
   "id": "d2438063",
   "metadata": {},
   "outputs": [
    {
     "data": {
      "text/plain": [
       "{'customer': {'f_name': 'Usama',\n",
       "  'l_usama': 'Muhammad',\n",
       "  'address': 'Landhi',\n",
       "  'order_price': '150'},\n",
       " 'customer_29876': {'first name': 'David',\n",
       "  'last name': 'Elliott',\n",
       "  'address': '4803 Wellesley St.'}}"
      ]
     },
     "execution_count": 8,
     "metadata": {},
     "output_type": "execute_result"
    }
   ],
   "source": [
    "customer_1 = {\"customer\" : {\"f_name\" : \"Usama\", \"l_usama\" : \"Muhammad\", \"address\" : \"Landhi\", \"order_price\" : \"150\"},\n",
    "               \"customer_29876\" : {\"first name\": \"David\", \"last name\": \"Elliott\", \"address\": \"4803 Wellesley St.\"}\n",
    "             }\n",
    "customer_1"
   ]
  },
  {
   "cell_type": "markdown",
   "id": "b4760751",
   "metadata": {},
   "source": [
    "## Dictionaries : How to pick information from dictionary:"
   ]
  },
  {
   "cell_type": "code",
   "execution_count": 10,
   "id": "dfa7b354",
   "metadata": {},
   "outputs": [],
   "source": [
    "customer_1[\"customer_29876\"][\"order_price\"] = \"200\""
   ]
  },
  {
   "cell_type": "code",
   "execution_count": 12,
   "id": "2dc1fad8",
   "metadata": {},
   "outputs": [
    {
     "data": {
      "text/plain": [
       "{'customer': {'f_name': 'Usama',\n",
       "  'l_usama': 'Muhammad',\n",
       "  'address': 'Landhi',\n",
       "  'order_price': '150'},\n",
       " 'customer_29876': {'first name': 'David',\n",
       "  'last name': 'Elliott',\n",
       "  'address': '4803 Wellesley St.',\n",
       "  'order_price': '200'}}"
      ]
     },
     "execution_count": 12,
     "metadata": {},
     "output_type": "execute_result"
    }
   ],
   "source": [
    "customer_1"
   ]
  },
  {
   "cell_type": "code",
   "execution_count": 13,
   "id": "b88ed1cf",
   "metadata": {},
   "outputs": [
    {
     "data": {
      "text/plain": [
       "'200'"
      ]
     },
     "execution_count": 13,
     "metadata": {},
     "output_type": "execute_result"
    }
   ],
   "source": [
    "customer_1[\"customer_29876\"][\"order_price\"]"
   ]
  },
  {
   "cell_type": "code",
   "execution_count": 15,
   "id": "8a523b56",
   "metadata": {},
   "outputs": [
    {
     "data": {
      "text/plain": [
       "{'first name': 'David',\n",
       " 'last name': 'Elliott',\n",
       " 'address': '4803 Wellesley St.',\n",
       " 'order_price': '200'}"
      ]
     },
     "execution_count": 15,
     "metadata": {},
     "output_type": "execute_result"
    }
   ],
   "source": [
    "customer_1[\"customer_29876\"]"
   ]
  },
  {
   "cell_type": "markdown",
   "id": "45ec0200",
   "metadata": {},
   "source": [
    "## Dictionaries can hold multiple data types"
   ]
  },
  {
   "cell_type": "code",
   "execution_count": 14,
   "id": "e87d0994",
   "metadata": {},
   "outputs": [
    {
     "data": {
      "text/plain": [
       "{'name': 'usama',\n",
       " 'age': 25,\n",
       " 'class': 'CDE',\n",
       " 'salary': '20000.55',\n",
       " 'is_Pakistani': True}"
      ]
     },
     "execution_count": 14,
     "metadata": {},
     "output_type": "execute_result"
    }
   ],
   "source": [
    "my_dictionary = {\"name\" : \"usama\", \"age\" : 25, \"class\" : \"CDE\", \"salary\" : \"20000.55\", \"is_Pakistani\" : True}\n",
    "my_dictionary"
   ]
  },
  {
   "cell_type": "code",
   "execution_count": 17,
   "id": "ba489748",
   "metadata": {},
   "outputs": [
    {
     "data": {
      "text/plain": [
       "{'first name': 'David',\n",
       " 'last name': 'Elliott',\n",
       " 'address': '4803 Wellesley St.'}"
      ]
     },
     "execution_count": 17,
     "metadata": {},
     "output_type": "execute_result"
    }
   ],
   "source": [
    "# keys of dictionary can be any of data type\n",
    "new_customer = {29876 : customer_29876, 1 : customer_1}\n",
    "new_customer[29876]"
   ]
  },
  {
   "cell_type": "code",
   "execution_count": 18,
   "id": "c40692c1",
   "metadata": {},
   "outputs": [
    {
     "data": {
      "text/plain": [
       "{'first name': 'David',\n",
       " 'last name': 'Elliott',\n",
       " 'address': '4803 Wellesley St.'}"
      ]
     },
     "execution_count": 18,
     "metadata": {},
     "output_type": "execute_result"
    }
   ],
   "source": [
    "new_customer = {True : customer_29876, False : customer_1}\n",
    "new_customer[True]"
   ]
  },
  {
   "cell_type": "markdown",
   "id": "04173864",
   "metadata": {},
   "source": [
    "- delete method"
   ]
  },
  {
   "cell_type": "code",
   "execution_count": 19,
   "id": "48873c99",
   "metadata": {
    "collapsed": true
   },
   "outputs": [
    {
     "ename": "KeyError",
     "evalue": "''",
     "output_type": "error",
     "traceback": [
      "\u001b[1;31m---------------------------------------------------------------------------\u001b[0m",
      "\u001b[1;31mKeyError\u001b[0m                                  Traceback (most recent call last)",
      "Cell \u001b[1;32mIn[19], line 1\u001b[0m\n\u001b[1;32m----> 1\u001b[0m \u001b[38;5;28;01mdel\u001b[39;00m customer_1[\u001b[38;5;124m\"\u001b[39m\u001b[38;5;124m\"\u001b[39m]\n",
      "\u001b[1;31mKeyError\u001b[0m: ''"
     ]
    }
   ],
   "source": [
    "del customer_1[\"\"]"
   ]
  },
  {
   "cell_type": "markdown",
   "id": "cbd925a7",
   "metadata": {},
   "source": [
    "## Dictionaries : Looping through values"
   ]
  },
  {
   "cell_type": "code",
   "execution_count": 20,
   "id": "922a12c3",
   "metadata": {},
   "outputs": [
    {
     "data": {
      "text/plain": [
       "{'first name': 'David',\n",
       " 'last name': 'Elliott',\n",
       " 'address': '4803 Wellesley St.'}"
      ]
     },
     "execution_count": 20,
     "metadata": {},
     "output_type": "execute_result"
    }
   ],
   "source": [
    "customer_29876"
   ]
  },
  {
   "cell_type": "code",
   "execution_count": null,
   "id": "b219cdbd",
   "metadata": {},
   "outputs": [],
   "source": [
    "customer_29876.keys()\n",
    "customer_29876.items() \n",
    "customer_29876.values()"
   ]
  },
  {
   "cell_type": "code",
   "execution_count": 26,
   "id": "d4ffdcce",
   "metadata": {},
   "outputs": [
    {
     "name": "stdout",
     "output_type": "stream",
     "text": [
      "('first name', 'David')\n",
      "('last name', 'Elliott')\n",
      "('address', '4803 Wellesley St.')\n"
     ]
    }
   ],
   "source": [
    "# loops always run on iteratable (list, tuple, set, dictionaries, range())\n",
    "# task = range is ?\n",
    "for item in customer_29876.items():\n",
    "    print(item)"
   ]
  },
  {
   "cell_type": "code",
   "execution_count": 27,
   "id": "88dd06b3",
   "metadata": {},
   "outputs": [
    {
     "name": "stdout",
     "output_type": "stream",
     "text": [
      "first name => David\n",
      "last name => Elliott\n",
      "address => 4803 Wellesley St.\n"
     ]
    }
   ],
   "source": [
    "for key, value in customer_29876.items():\n",
    "    print(key, \"=>\", value)"
   ]
  },
  {
   "cell_type": "code",
   "execution_count": 30,
   "id": "f6520a92",
   "metadata": {},
   "outputs": [
    {
     "name": "stdout",
     "output_type": "stream",
     "text": [
      "first name\n",
      "last name\n",
      "address\n"
     ]
    }
   ],
   "source": [
    "for key in customer_29876.keys():\n",
    "    print(key)"
   ]
  },
  {
   "cell_type": "code",
   "execution_count": 31,
   "id": "bb0c496d",
   "metadata": {},
   "outputs": [
    {
     "name": "stdout",
     "output_type": "stream",
     "text": [
      "David\n",
      "Elliott\n",
      "4803 Wellesley St.\n"
     ]
    }
   ],
   "source": [
    "for value in customer_29876.values():\n",
    "    print(value)"
   ]
  },
  {
   "cell_type": "code",
   "execution_count": 32,
   "id": "3f5375c1",
   "metadata": {
    "collapsed": true
   },
   "outputs": [
    {
     "name": "stdout",
     "output_type": "stream",
     "text": [
      "Help on dict object:\n",
      "\n",
      "class dict(object)\n",
      " |  dict() -> new empty dictionary\n",
      " |  dict(mapping) -> new dictionary initialized from a mapping object's\n",
      " |      (key, value) pairs\n",
      " |  dict(iterable) -> new dictionary initialized as if via:\n",
      " |      d = {}\n",
      " |      for k, v in iterable:\n",
      " |          d[k] = v\n",
      " |  dict(**kwargs) -> new dictionary initialized with the name=value pairs\n",
      " |      in the keyword argument list.  For example:  dict(one=1, two=2)\n",
      " |  \n",
      " |  Built-in subclasses:\n",
      " |      StgDict\n",
      " |  \n",
      " |  Methods defined here:\n",
      " |  \n",
      " |  __contains__(self, key, /)\n",
      " |      True if the dictionary has the specified key, else False.\n",
      " |  \n",
      " |  __delitem__(self, key, /)\n",
      " |      Delete self[key].\n",
      " |  \n",
      " |  __eq__(self, value, /)\n",
      " |      Return self==value.\n",
      " |  \n",
      " |  __ge__(self, value, /)\n",
      " |      Return self>=value.\n",
      " |  \n",
      " |  __getattribute__(self, name, /)\n",
      " |      Return getattr(self, name).\n",
      " |  \n",
      " |  __getitem__(...)\n",
      " |      x.__getitem__(y) <==> x[y]\n",
      " |  \n",
      " |  __gt__(self, value, /)\n",
      " |      Return self>value.\n",
      " |  \n",
      " |  __init__(self, /, *args, **kwargs)\n",
      " |      Initialize self.  See help(type(self)) for accurate signature.\n",
      " |  \n",
      " |  __ior__(self, value, /)\n",
      " |      Return self|=value.\n",
      " |  \n",
      " |  __iter__(self, /)\n",
      " |      Implement iter(self).\n",
      " |  \n",
      " |  __le__(self, value, /)\n",
      " |      Return self<=value.\n",
      " |  \n",
      " |  __len__(self, /)\n",
      " |      Return len(self).\n",
      " |  \n",
      " |  __lt__(self, value, /)\n",
      " |      Return self<value.\n",
      " |  \n",
      " |  __ne__(self, value, /)\n",
      " |      Return self!=value.\n",
      " |  \n",
      " |  __or__(self, value, /)\n",
      " |      Return self|value.\n",
      " |  \n",
      " |  __repr__(self, /)\n",
      " |      Return repr(self).\n",
      " |  \n",
      " |  __reversed__(self, /)\n",
      " |      Return a reverse iterator over the dict keys.\n",
      " |  \n",
      " |  __ror__(self, value, /)\n",
      " |      Return value|self.\n",
      " |  \n",
      " |  __setitem__(self, key, value, /)\n",
      " |      Set self[key] to value.\n",
      " |  \n",
      " |  __sizeof__(...)\n",
      " |      D.__sizeof__() -> size of D in memory, in bytes\n",
      " |  \n",
      " |  clear(...)\n",
      " |      D.clear() -> None.  Remove all items from D.\n",
      " |  \n",
      " |  copy(...)\n",
      " |      D.copy() -> a shallow copy of D\n",
      " |  \n",
      " |  get(self, key, default=None, /)\n",
      " |      Return the value for key if key is in the dictionary, else default.\n",
      " |  \n",
      " |  items(...)\n",
      " |      D.items() -> a set-like object providing a view on D's items\n",
      " |  \n",
      " |  keys(...)\n",
      " |      D.keys() -> a set-like object providing a view on D's keys\n",
      " |  \n",
      " |  pop(...)\n",
      " |      D.pop(k[,d]) -> v, remove specified key and return the corresponding value.\n",
      " |      \n",
      " |      If the key is not found, return the default if given; otherwise,\n",
      " |      raise a KeyError.\n",
      " |  \n",
      " |  popitem(self, /)\n",
      " |      Remove and return a (key, value) pair as a 2-tuple.\n",
      " |      \n",
      " |      Pairs are returned in LIFO (last-in, first-out) order.\n",
      " |      Raises KeyError if the dict is empty.\n",
      " |  \n",
      " |  setdefault(self, key, default=None, /)\n",
      " |      Insert key with a value of default if key is not in the dictionary.\n",
      " |      \n",
      " |      Return the value for key if key is in the dictionary, else default.\n",
      " |  \n",
      " |  update(...)\n",
      " |      D.update([E, ]**F) -> None.  Update D from dict/iterable E and F.\n",
      " |      If E is present and has a .keys() method, then does:  for k in E: D[k] = E[k]\n",
      " |      If E is present and lacks a .keys() method, then does:  for k, v in E: D[k] = v\n",
      " |      In either case, this is followed by: for k in F:  D[k] = F[k]\n",
      " |  \n",
      " |  values(...)\n",
      " |      D.values() -> an object providing a view on D's values\n",
      " |  \n",
      " |  ----------------------------------------------------------------------\n",
      " |  Class methods defined here:\n",
      " |  \n",
      " |  __class_getitem__(...) from builtins.type\n",
      " |      See PEP 585\n",
      " |  \n",
      " |  fromkeys(iterable, value=None, /) from builtins.type\n",
      " |      Create a new dictionary with keys from iterable and values set to value.\n",
      " |  \n",
      " |  ----------------------------------------------------------------------\n",
      " |  Static methods defined here:\n",
      " |  \n",
      " |  __new__(*args, **kwargs) from builtins.type\n",
      " |      Create and return a new object.  See help(type) for accurate signature.\n",
      " |  \n",
      " |  ----------------------------------------------------------------------\n",
      " |  Data and other attributes defined here:\n",
      " |  \n",
      " |  __hash__ = None\n",
      "\n"
     ]
    }
   ],
   "source": [
    "help(customer_29876)\n",
    "customer_29876?"
   ]
  },
  {
   "cell_type": "markdown",
   "id": "32bd7574",
   "metadata": {},
   "source": [
    "## creating a list of dictionaries:"
   ]
  },
  {
   "cell_type": "code",
   "execution_count": 33,
   "id": "f3ea8fbf",
   "metadata": {},
   "outputs": [
    {
     "data": {
      "text/plain": [
       "{'names': ['usama', 'qasim', 'ali'],\n",
       " 'age': [23, 12, 45],\n",
       " 'purchase_item': ['shoes', 'bags', 'car'],\n",
       " 'amount': [200, 123, 4567]}"
      ]
     },
     "execution_count": 33,
     "metadata": {},
     "output_type": "execute_result"
    }
   ],
   "source": [
    "list_of_dict = {\n",
    "    \"names\" : [\"usama\", \"qasim\", \"ali\"],\n",
    "    \"age\" : [23, 12, 45],\n",
    "    \"purchase_item\" : [\"shoes\", \"bags\", \"car\"],\n",
    "    \"amount\" : [200, 123, 4567]\n",
    "}\n",
    "list_of_dict"
   ]
  },
  {
   "cell_type": "code",
   "execution_count": 34,
   "id": "7f749820",
   "metadata": {},
   "outputs": [
    {
     "name": "stdout",
     "output_type": "stream",
     "text": [
      "['usama', 'qasim', 'ali']\n",
      "[23, 12, 45]\n",
      "['shoes', 'bags', 'car']\n",
      "[200, 123, 4567]\n"
     ]
    }
   ],
   "source": [
    "for value in list_of_dict.values():\n",
    "    print(value)"
   ]
  },
  {
   "cell_type": "code",
   "execution_count": 41,
   "id": "8701bf5f",
   "metadata": {},
   "outputs": [
    {
     "name": "stdout",
     "output_type": "stream",
     "text": [
      "\n",
      "usama\n",
      "23\n",
      "shoes\n",
      "200\n",
      "\n",
      "qasim\n",
      "12\n",
      "bags\n",
      "123\n",
      "\n",
      "ali\n",
      "45\n",
      "car\n",
      "4567\n"
     ]
    }
   ],
   "source": [
    "for index in range(3):\n",
    "    print() # 0, 1, 2\n",
    "    for value in list_of_dict.values():\n",
    "        print(value[index])"
   ]
  },
  {
   "cell_type": "markdown",
   "id": "b456a132",
   "metadata": {},
   "source": [
    "##  How to pick information out of a list of dictionaries:"
   ]
  },
  {
   "cell_type": "code",
   "execution_count": 42,
   "id": "36af513a",
   "metadata": {},
   "outputs": [
    {
     "data": {
      "text/plain": [
       "{'names': ['usama', 'qasim', 'ali'],\n",
       " 'age': [23, 12, 45],\n",
       " 'purchase_item': ['shoes', 'bags', 'car'],\n",
       " 'amount': [200, 123, 4567]}"
      ]
     },
     "execution_count": 42,
     "metadata": {},
     "output_type": "execute_result"
    }
   ],
   "source": [
    "list_of_dict"
   ]
  },
  {
   "cell_type": "code",
   "execution_count": 43,
   "id": "d7fc352f",
   "metadata": {},
   "outputs": [
    {
     "data": {
      "text/plain": [
       "'car'"
      ]
     },
     "execution_count": 43,
     "metadata": {},
     "output_type": "execute_result"
    }
   ],
   "source": [
    "list_of_dict[\"purchase_item\"][2]"
   ]
  },
  {
   "cell_type": "markdown",
   "id": "99e27510",
   "metadata": {},
   "source": [
    "## List of Dictionaries:"
   ]
  },
  {
   "cell_type": "code",
   "execution_count": 44,
   "id": "4b327381",
   "metadata": {},
   "outputs": [
    {
     "data": {
      "text/plain": [
       "[{'name': 'usama', 'age': 23, 'purchase_item': 'shoes', 'amount': 200},\n",
       " {'name': 'qasim', 'age': 22, 'purchase_item': 'bag', 'amount': 2000},\n",
       " {'name': 'ali', 'age': 27, 'purchase_item': 'pencil', 'amount': 130}]"
      ]
     },
     "execution_count": 44,
     "metadata": {},
     "output_type": "execute_result"
    }
   ],
   "source": [
    "list_of_dictinary = [{'name': 'usama',\n",
    " 'age': 23,\n",
    " 'purchase_item': 'shoes',\n",
    " 'amount': 200},\n",
    "{'name': 'qasim',\n",
    " 'age': 22,\n",
    " 'purchase_item': 'bag',\n",
    " 'amount': 2000},\n",
    "{'name': 'ali',\n",
    " 'age': 27,\n",
    " 'purchase_item': 'pencil',\n",
    " 'amount': 130}]\n",
    "list_of_dictinary"
   ]
  },
  {
   "cell_type": "code",
   "execution_count": 45,
   "id": "120eddff",
   "metadata": {},
   "outputs": [
    {
     "data": {
      "text/plain": [
       "'bag'"
      ]
     },
     "execution_count": 45,
     "metadata": {},
     "output_type": "execute_result"
    }
   ],
   "source": [
    "list_of_dictinary[1][\"purchase_item\"]"
   ]
  },
  {
   "cell_type": "markdown",
   "id": "63097b1e",
   "metadata": {},
   "source": [
    "## Append a new dictionary to a list of dictionaries:"
   ]
  },
  {
   "cell_type": "code",
   "execution_count": 46,
   "id": "85ca564d",
   "metadata": {},
   "outputs": [
    {
     "data": {
      "text/plain": [
       "[{'name': 'usama', 'age': 23, 'purchase_item': 'shoes', 'amount': 200},\n",
       " {'name': 'qasim', 'age': 22, 'purchase_item': 'bag', 'amount': 2000},\n",
       " {'name': 'ali', 'age': 27, 'purchase_item': 'pencil', 'amount': 130},\n",
       " {'name': 'usama', 'age': 23, 'purchase_item': 'shoes', 'amount': 200}]"
      ]
     },
     "execution_count": 46,
     "metadata": {},
     "output_type": "execute_result"
    }
   ],
   "source": [
    "list_of_dictinary.append({'name': 'usama', 'age': 23, 'purchase_item': 'shoes', 'amount': 200})\n",
    "list_of_dictinary"
   ]
  },
  {
   "cell_type": "code",
   "execution_count": 47,
   "id": "2b275e27",
   "metadata": {},
   "outputs": [
    {
     "data": {
      "text/plain": [
       "4"
      ]
     },
     "execution_count": 47,
     "metadata": {},
     "output_type": "execute_result"
    }
   ],
   "source": [
    "len(list_of_dictinary)"
   ]
  },
  {
   "cell_type": "code",
   "execution_count": 49,
   "id": "cda8d51f",
   "metadata": {},
   "outputs": [
    {
     "data": {
      "text/plain": [
       "[{'name': 'usama', 'age': 23, 'purchase_item': 'shoes', 'amount': 200},\n",
       " {'name': 'qasim', 'age': 22, 'purchase_item': 'bag', 'amount': 2000},\n",
       " {'name': 'ali', 'age': 27, 'purchase_item': 'pencil', 'amount': 130},\n",
       " {'name': 'usama', 'age': 23, 'purchase_item': 'shoes', 'amount': 200}]"
      ]
     },
     "execution_count": 49,
     "metadata": {},
     "output_type": "execute_result"
    }
   ],
   "source": [
    "list_of_dictinary[4] = {'name': 'usama', 'age': 23, 'purchase_item': 'shoes', 'amount': 200}\n",
    "list_of_dictinary # error "
   ]
  },
  {
   "cell_type": "code",
   "execution_count": 51,
   "id": "0400ef27",
   "metadata": {},
   "outputs": [
    {
     "data": {
      "text/plain": [
       "[{'name': 'usama', 'age': 23, 'purchase_item': 'shoes', 'amount': 200},\n",
       " {'name': 'qasim', 'age': 22, 'purchase_item': 'bag', 'amount': 2000},\n",
       " {'name': 'ali', 'age': 27, 'purchase_item': 'pencil', 'amount': 130},\n",
       " {'name': 'usama', 'age': 23, 'purchase_item': 'shoes', 'amount': 200},\n",
       " 'name',\n",
       " 'age',\n",
       " 'purchase_item',\n",
       " 'amount',\n",
       " {'name': 'usama', 'age': 23, 'purchase_item': 'shoes', 'amount': 200}]"
      ]
     },
     "execution_count": 51,
     "metadata": {},
     "output_type": "execute_result"
    }
   ],
   "source": [
    "list_of_dictinary += [{'name': 'usama', 'age': 23, 'purchase_item': 'shoes', 'amount': 200}]\n",
    "list_of_dictinary"
   ]
  },
  {
   "cell_type": "code",
   "execution_count": 53,
   "id": "c3854ea3",
   "metadata": {},
   "outputs": [
    {
     "data": {
      "text/plain": [
       "[{'name': 'usama', 'age': 23, 'purchase_item': 'shoes', 'amount': 200},\n",
       " {'name': 'qasim', 'age': 22, 'purchase_item': 'bag', 'amount': 2000},\n",
       " {'name': 'ali', 'age': 27, 'purchase_item': 'pencil', 'amount': 130},\n",
       " {'name': 'usama', 'age': 23, 'purchase_item': 'shoes', 'amount': 200},\n",
       " 'name',\n",
       " 'age',\n",
       " 'purchase_item',\n",
       " 'amount',\n",
       " {'name': 'usama', 'age': 23, 'purchase_item': 'shoes', 'amount': 200}]"
      ]
     },
     "execution_count": 53,
     "metadata": {},
     "output_type": "execute_result"
    }
   ],
   "source": [
    "del list_of_dictinary[-1:-3]\n",
    "list_of_dictinary"
   ]
  },
  {
   "cell_type": "markdown",
   "id": "b539c4be",
   "metadata": {},
   "source": [
    "## Creating a dictionary that contains dictionary:"
   ]
  },
  {
   "cell_type": "code",
   "execution_count": 54,
   "id": "a6bef4d7",
   "metadata": {},
   "outputs": [
    {
     "data": {
      "text/plain": [
       "{1: {'customer id': 0,\n",
       "  'first name': 'John',\n",
       "  'last name': 'Ogden',\n",
       "  'address': '301 Arbor Rd.'},\n",
       " 2: {'customer id': 1,\n",
       "  'first name': 'Ann',\n",
       "  'last name': 'Sattermyer',\n",
       "  'address': 'PO Box 1145'}}"
      ]
     },
     "execution_count": 54,
     "metadata": {},
     "output_type": "execute_result"
    }
   ],
   "source": [
    "customers = {\n",
    "1: {\n",
    " \"customer id\": 0,\n",
    " \"first name\":\"John\",\n",
    " \"last name\": \"Ogden\",\n",
    " \"address\": \"301 Arbor Rd.\",\n",
    " },\n",
    "2: {\n",
    " \"customer id\": 1,\n",
    " \"first name\":\"Ann\",\n",
    " \"last name\": \"Sattermyer\",\n",
    " \"address\": \"PO Box 1145\",\n",
    " }}\n",
    "customers"
   ]
  },
  {
   "cell_type": "markdown",
   "id": "993819f4",
   "metadata": {},
   "source": [
    "## How to get information out of a dictionary within another dictionary"
   ]
  },
  {
   "cell_type": "code",
   "execution_count": 55,
   "id": "4c95b1ae",
   "metadata": {},
   "outputs": [
    {
     "data": {
      "text/plain": [
       "'John'"
      ]
     },
     "execution_count": 55,
     "metadata": {},
     "output_type": "execute_result"
    }
   ],
   "source": [
    "customers[1][\"first name\"]"
   ]
  },
  {
   "cell_type": "code",
   "execution_count": null,
   "id": "bfacf7eb",
   "metadata": {},
   "outputs": [],
   "source": []
  }
 ],
 "metadata": {
  "kernelspec": {
   "display_name": "Python 3 (ipykernel)",
   "language": "python",
   "name": "python3"
  },
  "language_info": {
   "codemirror_mode": {
    "name": "ipython",
    "version": 3
   },
   "file_extension": ".py",
   "mimetype": "text/x-python",
   "name": "python",
   "nbconvert_exporter": "python",
   "pygments_lexer": "ipython3",
   "version": "3.10.8"
  }
 },
 "nbformat": 4,
 "nbformat_minor": 5
}
