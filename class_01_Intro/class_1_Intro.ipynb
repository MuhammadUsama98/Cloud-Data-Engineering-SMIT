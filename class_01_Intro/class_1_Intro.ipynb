{
 "cells": [
  {
   "cell_type": "markdown",
   "id": "ed1499c6",
   "metadata": {},
   "source": [
    "## shortuct keys\n",
    "\n",
    "- ESC + 1, 2, 3(to create headings)\n",
    "- ESC + M(covert selected cell into markdown)\n",
    "- ESC + A(create a cell above)\n",
    "- ESC + B(create a cell below)\n",
    "- ESC + DD(to delete any selected cell)\n",
    "- ESC + Y(convert any cell into code)\n",
    "- SHIFT + ENTER(execute cell and go to new cell)\n",
    "- CTRl + ENTER(execute but stay in the cell)\n",
    "- CTRL + SHIFT + H(to get all shortcut keys)"
   ]
  },
  {
   "cell_type": "markdown",
   "id": "c596bc26",
   "metadata": {},
   "source": [
    "## Recap"
   ]
  },
  {
   "cell_type": "code",
   "execution_count": 1,
   "id": "22112cb4",
   "metadata": {},
   "outputs": [
    {
     "name": "stdout",
     "output_type": "stream",
     "text": [
      "hello, saylani\n"
     ]
    }
   ],
   "source": [
    "print(\"hello, saylani\")"
   ]
  },
  {
   "cell_type": "code",
   "execution_count": 3,
   "id": "809e7071",
   "metadata": {},
   "outputs": [],
   "source": [
    "# Data Types: INTEGER, STRING, FLOAT, BOOLEAN\n",
    "name = \"Usama\"\n",
    "age = 25\n",
    "weight = 30.5\n",
    "is_present = True"
   ]
  },
  {
   "cell_type": "code",
   "execution_count": 8,
   "id": "1d9407df",
   "metadata": {},
   "outputs": [
    {
     "data": {
      "text/plain": [
       "(bool, int, str)"
      ]
     },
     "execution_count": 8,
     "metadata": {},
     "output_type": "execute_result"
    }
   ],
   "source": [
    "type(is_present), type(age), type(name)"
   ]
  },
  {
   "cell_type": "code",
   "execution_count": 7,
   "id": "c53127fd",
   "metadata": {},
   "outputs": [
    {
     "name": "stdout",
     "output_type": "stream",
     "text": [
      "True <class 'int'> <class 'str'>\n"
     ]
    }
   ],
   "source": [
    "print((is_present), type(age), type(name))"
   ]
  },
  {
   "cell_type": "markdown",
   "id": "138a0562",
   "metadata": {},
   "source": [
    "## Variable naming "
   ]
  },
  {
   "cell_type": "markdown",
   "id": "ec258324",
   "metadata": {},
   "source": [
    "- variable can't have special characters exp underscore(_)\n",
    "- number cannot be in the start of the variable name.\n",
    "- already reserved keywords cannot use as a variable.\n",
    "- name should precise and meaningful.\n",
    "- variables are case sensitive."
   ]
  },
  {
   "cell_type": "markdown",
   "id": "b64c8a17",
   "metadata": {},
   "source": [
    "## Arithmatic Operators(familiar operators)\n",
    "\n",
    "- *, /, +, -\n",
    "\n",
    "## Arithmatic Operators(familiar operators)\n",
    "\n",
    "- power(**)\n",
    "- floor(//), it gives answer in int \n",
    "- moduolo(%), it gives remainder "
   ]
  },
  {
   "cell_type": "markdown",
   "id": "2a51711f",
   "metadata": {},
   "source": [
    "## Operators"
   ]
  },
  {
   "cell_type": "code",
   "execution_count": 9,
   "id": "9c1baea5",
   "metadata": {},
   "outputs": [
    {
     "data": {
      "text/plain": [
       "22"
      ]
     },
     "execution_count": 9,
     "metadata": {},
     "output_type": "execute_result"
    }
   ],
   "source": [
    "age = 20\n",
    "age = age + 2\n",
    "age"
   ]
  },
  {
   "cell_type": "code",
   "execution_count": 10,
   "id": "34bc2ecf",
   "metadata": {},
   "outputs": [
    {
     "data": {
      "text/plain": [
       "24"
      ]
     },
     "execution_count": 10,
     "metadata": {},
     "output_type": "execute_result"
    }
   ],
   "source": [
    "age += 2\n",
    "age"
   ]
  },
  {
   "cell_type": "code",
   "execution_count": 11,
   "id": "80285817",
   "metadata": {},
   "outputs": [
    {
     "data": {
      "text/plain": [
       "22"
      ]
     },
     "execution_count": 11,
     "metadata": {},
     "output_type": "execute_result"
    }
   ],
   "source": [
    "age -= 2\n",
    "age"
   ]
  },
  {
   "cell_type": "code",
   "execution_count": 12,
   "id": "d72db66f",
   "metadata": {},
   "outputs": [
    {
     "data": {
      "text/plain": [
       "44"
      ]
     },
     "execution_count": 12,
     "metadata": {},
     "output_type": "execute_result"
    }
   ],
   "source": [
    "age *= 2\n",
    "age"
   ]
  },
  {
   "cell_type": "markdown",
   "id": "bef0874a",
   "metadata": {},
   "source": [
    "##  Math expressions: Eliminating ambiguity\n"
   ]
  },
  {
   "cell_type": "markdown",
   "id": "4fa058c6",
   "metadata": {},
   "source": [
    "##  Concatenating Text Strings\n",
    "\n",
    "- string cannot concatenate integers.\n"
   ]
  },
  {
   "cell_type": "code",
   "execution_count": 13,
   "id": "0d502dd1",
   "metadata": {},
   "outputs": [
    {
     "name": "stdout",
     "output_type": "stream",
     "text": [
      "hello Saylani\n"
     ]
    }
   ],
   "source": [
    "print(\"hello\" + \" \" + \"Saylani\")"
   ]
  },
  {
   "cell_type": "code",
   "execution_count": 14,
   "id": "61a75580",
   "metadata": {},
   "outputs": [
    {
     "name": "stdout",
     "output_type": "stream",
     "text": [
      "hello Saylani\n"
     ]
    }
   ],
   "source": [
    "print(\"hello\", \"Saylani\")"
   ]
  },
  {
   "cell_type": "code",
   "execution_count": 15,
   "id": "9921cf5f",
   "metadata": {},
   "outputs": [
    {
     "data": {
      "text/plain": [
       "('hello', 'saylani')"
      ]
     },
     "execution_count": 15,
     "metadata": {},
     "output_type": "execute_result"
    }
   ],
   "source": [
    "\"hello\", \"saylani\""
   ]
  },
  {
   "cell_type": "code",
   "execution_count": 16,
   "id": "fe4b0414",
   "metadata": {},
   "outputs": [
    {
     "data": {
      "text/plain": [
       "'my name is name and my age is age and weight is weight'"
      ]
     },
     "execution_count": 16,
     "metadata": {},
     "output_type": "execute_result"
    }
   ],
   "source": [
    "\"my name is name and my age is age and weight is weight\""
   ]
  },
  {
   "cell_type": "code",
   "execution_count": 17,
   "id": "11eda32e",
   "metadata": {
    "collapsed": true,
    "jupyter": {
     "outputs_hidden": true
    }
   },
   "outputs": [
    {
     "ename": "TypeError",
     "evalue": "can only concatenate str (not \"int\") to str",
     "output_type": "error",
     "traceback": [
      "\u001b[1;31m---------------------------------------------------------------------------\u001b[0m",
      "\u001b[1;31mTypeError\u001b[0m                                 Traceback (most recent call last)",
      "Cell \u001b[1;32mIn[17], line 1\u001b[0m\n\u001b[1;32m----> 1\u001b[0m \u001b[38;5;124;43m\"\u001b[39;49m\u001b[38;5;124;43mmy name is\u001b[39;49m\u001b[38;5;124;43m\"\u001b[39;49m\u001b[43m \u001b[49m\u001b[38;5;241;43m+\u001b[39;49m\u001b[43m \u001b[49m\u001b[43mname\u001b[49m\u001b[43m \u001b[49m\u001b[38;5;241;43m+\u001b[39;49m\u001b[43m \u001b[49m\u001b[38;5;124;43m\"\u001b[39;49m\u001b[38;5;124;43mand my age is\u001b[39;49m\u001b[38;5;124;43m\"\u001b[39;49m\u001b[43m \u001b[49m\u001b[38;5;241;43m+\u001b[39;49m\u001b[43m \u001b[49m\u001b[43mage\u001b[49m \u001b[38;5;241m+\u001b[39m \u001b[38;5;124m\"\u001b[39m\u001b[38;5;124mand weight is\u001b[39m\u001b[38;5;124m\"\u001b[39m \u001b[38;5;241m+\u001b[39m weight\n",
      "\u001b[1;31mTypeError\u001b[0m: can only concatenate str (not \"int\") to str"
     ]
    }
   ],
   "source": [
    "\"my name is\" + name + \"and my age is\" + age + \"and weight is\" + weight"
   ]
  },
  {
   "cell_type": "code",
   "execution_count": 19,
   "id": "3839ed2b",
   "metadata": {},
   "outputs": [
    {
     "data": {
      "text/plain": [
       "'my name is Usamaand my age is 44and weight is 30.5'"
      ]
     },
     "execution_count": 19,
     "metadata": {},
     "output_type": "execute_result"
    }
   ],
   "source": [
    "\"my name is \" + name + \" and my age is \" + str(age) + \" and weight is \" + str(weight)"
   ]
  },
  {
   "cell_type": "code",
   "execution_count": 25,
   "id": "c3547865",
   "metadata": {},
   "outputs": [
    {
     "data": {
      "text/plain": [
       "'my name is Usama, and my age is 44 and weight is  30.5'"
      ]
     },
     "execution_count": 25,
     "metadata": {},
     "output_type": "execute_result"
    }
   ],
   "source": [
    "f\"my name is {name}, and my age is {age} and weight is  {weight}\""
   ]
  },
  {
   "cell_type": "code",
   "execution_count": 28,
   "id": "9b0fc62c",
   "metadata": {},
   "outputs": [
    {
     "data": {
      "text/plain": [
       "'my name is Usama, and my age is 44 and weight is  30.5'"
      ]
     },
     "execution_count": 28,
     "metadata": {},
     "output_type": "execute_result"
    }
   ],
   "source": [
    "f\"my name is {name}, and my age is {age} and weight is  {weight}\".format(name, age, weight)"
   ]
  },
  {
   "cell_type": "code",
   "execution_count": 29,
   "id": "650f60df",
   "metadata": {},
   "outputs": [
    {
     "name": "stdout",
     "output_type": "stream",
     "text": [
      "sum of 2 plus 2 is  4\n"
     ]
    }
   ],
   "source": [
    "print(\"sum of 2 plus 2 is \", \"4\")"
   ]
  },
  {
   "cell_type": "markdown",
   "id": "e75b2f58",
   "metadata": {},
   "source": [
    "## Conditional Statements: if elif else"
   ]
  },
  {
   "cell_type": "code",
   "execution_count": null,
   "id": "93fb137b",
   "metadata": {},
   "outputs": [],
   "source": [
    "synatx: \n",
    "    "
   ]
  }
 ],
 "metadata": {
  "kernelspec": {
   "display_name": "Python 3 (ipykernel)",
   "language": "python",
   "name": "python3"
  },
  "language_info": {
   "codemirror_mode": {
    "name": "ipython",
    "version": 3
   },
   "file_extension": ".py",
   "mimetype": "text/x-python",
   "name": "python",
   "nbconvert_exporter": "python",
   "pygments_lexer": "ipython3",
   "version": "3.10.8"
  }
 },
 "nbformat": 4,
 "nbformat_minor": 5
}
