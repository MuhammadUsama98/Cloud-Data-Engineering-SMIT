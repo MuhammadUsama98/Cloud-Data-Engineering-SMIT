{
 "cells": [
  {
   "cell_type": "markdown",
   "id": "3fd68d4f",
   "metadata": {},
   "source": [
    "# Classes"
   ]
  },
  {
   "cell_type": "markdown",
   "id": "208c0d83",
   "metadata": {},
   "source": [
    "- every object belongs to some class.\n",
    "- every class has some methods(function) and attributes(arguments).\n",
    "- attributes --> characteristics.\n",
    "- methods --> behaviour."
   ]
  },
  {
   "cell_type": "code",
   "execution_count": 1,
   "id": "ff324f9f",
   "metadata": {},
   "outputs": [],
   "source": [
    "name = \"usama\" #object creation"
   ]
  },
  {
   "cell_type": "code",
   "execution_count": 3,
   "id": "19bda76e",
   "metadata": {},
   "outputs": [
    {
     "data": {
      "text/plain": [
       "str"
      ]
     },
     "execution_count": 3,
     "metadata": {},
     "output_type": "execute_result"
    }
   ],
   "source": [
    "type(name)"
   ]
  },
  {
   "cell_type": "code",
   "execution_count": 4,
   "id": "9d34de0a",
   "metadata": {},
   "outputs": [
    {
     "name": "stdout",
     "output_type": "stream",
     "text": [
      "<class 'str'>\n"
     ]
    }
   ],
   "source": [
    "print(type(name))"
   ]
  },
  {
   "cell_type": "code",
   "execution_count": 5,
   "id": "5e81305b",
   "metadata": {},
   "outputs": [
    {
     "data": {
      "text/plain": [
       "int"
      ]
     },
     "execution_count": 5,
     "metadata": {},
     "output_type": "execute_result"
    }
   ],
   "source": [
    "age = 25\n",
    "type(age)"
   ]
  },
  {
   "cell_type": "code",
   "execution_count": 6,
   "id": "b04f0564",
   "metadata": {},
   "outputs": [
    {
     "name": "stdout",
     "output_type": "stream",
     "text": [
      "<class 'int'>\n"
     ]
    }
   ],
   "source": [
    "print(type(age))"
   ]
  },
  {
   "cell_type": "code",
   "execution_count": 7,
   "id": "0e3171d4",
   "metadata": {},
   "outputs": [
    {
     "data": {
      "text/plain": [
       "list"
      ]
     },
     "execution_count": 7,
     "metadata": {},
     "output_type": "execute_result"
    }
   ],
   "source": [
    "city = [\"karachi\", \"Lahore\", \"Islamabad\"]\n",
    "type(city)"
   ]
  },
  {
   "cell_type": "code",
   "execution_count": 8,
   "id": "76c93277",
   "metadata": {},
   "outputs": [
    {
     "name": "stdout",
     "output_type": "stream",
     "text": [
      "<class 'list'>\n"
     ]
    }
   ],
   "source": [
    "print(type(city))"
   ]
  },
  {
   "cell_type": "code",
   "execution_count": 9,
   "id": "38ede760",
   "metadata": {},
   "outputs": [],
   "source": [
    "city.append(\"kohat\")"
   ]
  },
  {
   "cell_type": "code",
   "execution_count": 10,
   "id": "557ecab4",
   "metadata": {},
   "outputs": [
    {
     "data": {
      "text/plain": [
       "['karachi', 'Lahore', 'Islamabad', 'kohat']"
      ]
     },
     "execution_count": 10,
     "metadata": {},
     "output_type": "execute_result"
    }
   ],
   "source": [
    "city"
   ]
  },
  {
   "cell_type": "markdown",
   "id": "397b02e5",
   "metadata": {},
   "source": [
    "## creating Class"
   ]
  },
  {
   "cell_type": "markdown",
   "id": "650e444e",
   "metadata": {},
   "source": [
    "- class --> vehicle.\n",
    "- attributes --> colour, model, make, price, brand.\n",
    "- methods --> move, detail."
   ]
  },
  {
   "cell_type": "code",
   "execution_count": 25,
   "id": "0d1497d5",
   "metadata": {},
   "outputs": [],
   "source": [
    "class vehicles():\n",
    "    def __init__(self, colour, model, price, brand): #initializer (constructor)\n",
    "        self.colour = colour\n",
    "        self.model = model\n",
    "        self.price = price\n",
    "        self.brand = brand\n",
    "        self.discount = 0.1\n",
    "        \n",
    "    def details(self):\n",
    "        print(f\"brand : {self.brand}\\ model : {self.model}\\ colour : {self.colour}\\ price : {self.price}\")\n",
    "        \n",
    "    def moving(self):\n",
    "        print(f\"{self.brand} is a type of vehicle and can be used for travelling\")"
   ]
  },
  {
   "cell_type": "code",
   "execution_count": 26,
   "id": "0baab6b9",
   "metadata": {},
   "outputs": [],
   "source": [
    "toyota = vehicles(\"white\", \"Grandi\", 100, \"toyota\") #initialize"
   ]
  },
  {
   "cell_type": "code",
   "execution_count": 27,
   "id": "8e8bccfe",
   "metadata": {},
   "outputs": [
    {
     "name": "stdout",
     "output_type": "stream",
     "text": [
      "<class '__main__.vehicles'>\n"
     ]
    }
   ],
   "source": [
    "print(type(toyota))"
   ]
  },
  {
   "cell_type": "code",
   "execution_count": 28,
   "id": "07b2124c",
   "metadata": {},
   "outputs": [
    {
     "data": {
      "text/plain": [
       "'toyota'"
      ]
     },
     "execution_count": 28,
     "metadata": {},
     "output_type": "execute_result"
    }
   ],
   "source": [
    "toyota.brand"
   ]
  },
  {
   "cell_type": "code",
   "execution_count": 29,
   "id": "3bd51ab8",
   "metadata": {},
   "outputs": [
    {
     "data": {
      "text/plain": [
       "'white'"
      ]
     },
     "execution_count": 29,
     "metadata": {},
     "output_type": "execute_result"
    }
   ],
   "source": [
    "toyota.colour"
   ]
  },
  {
   "cell_type": "code",
   "execution_count": 30,
   "id": "3455dd31",
   "metadata": {},
   "outputs": [
    {
     "data": {
      "text/plain": [
       "'Grandi'"
      ]
     },
     "execution_count": 30,
     "metadata": {},
     "output_type": "execute_result"
    }
   ],
   "source": [
    "toyota.model"
   ]
  },
  {
   "cell_type": "code",
   "execution_count": 31,
   "id": "f6d99587",
   "metadata": {},
   "outputs": [
    {
     "data": {
      "text/plain": [
       "100"
      ]
     },
     "execution_count": 31,
     "metadata": {},
     "output_type": "execute_result"
    }
   ],
   "source": [
    "toyota.price"
   ]
  },
  {
   "cell_type": "code",
   "execution_count": 32,
   "id": "483a5dd1",
   "metadata": {},
   "outputs": [
    {
     "name": "stdout",
     "output_type": "stream",
     "text": [
      "brand : toyota\\ model : Grandi\\ colour : white\\ price : 100\n"
     ]
    }
   ],
   "source": [
    "toyota.details()"
   ]
  },
  {
   "cell_type": "code",
   "execution_count": 21,
   "id": "efece841",
   "metadata": {},
   "outputs": [
    {
     "name": "stdout",
     "output_type": "stream",
     "text": [
      "toyota is a type of vehicle and can be used for travelling\n"
     ]
    }
   ],
   "source": [
    "toyota.moving()"
   ]
  },
  {
   "cell_type": "code",
   "execution_count": 33,
   "id": "f23010f3",
   "metadata": {},
   "outputs": [
    {
     "data": {
      "text/plain": [
       "0.1"
      ]
     },
     "execution_count": 33,
     "metadata": {},
     "output_type": "execute_result"
    }
   ],
   "source": [
    "toyota.discount"
   ]
  },
  {
   "cell_type": "code",
   "execution_count": 50,
   "id": "aad9003c",
   "metadata": {},
   "outputs": [],
   "source": [
    "class Person():\n",
    "    def __init__(self, haircolour, eyecolour, skincolour, height, weight):\n",
    "        self.haircolour = haircolour\n",
    "        self.eyecolour = eyecolour\n",
    "        self.skincolour = skincolour\n",
    "        self.height = height\n",
    "        self.weight = weight\n",
    "        \n",
    "    def eat(self):\n",
    "        print(\"he can eat\")\n",
    "        \n",
    "    def sleep(self):\n",
    "        print(\"he sleeps at night\")\n",
    "        \n",
    "    def walk(self):\n",
    "        print(\"he walks daily\")\n",
    "        \n",
    "    def play():\n",
    "        print(\"he plays cricket\")\n",
    "        \n",
    "    def study():\n",
    "        print(\"he is studying data engineering\")"
   ]
  },
  {
   "cell_type": "code",
   "execution_count": 61,
   "id": "b62f6c1f",
   "metadata": {},
   "outputs": [],
   "source": [
    "usama = Person(\"black\", \"black\", \"brown\", 5.100, 60)"
   ]
  },
  {
   "cell_type": "code",
   "execution_count": 43,
   "id": "f83c9ea1",
   "metadata": {},
   "outputs": [
    {
     "data": {
      "text/plain": [
       "'black'"
      ]
     },
     "execution_count": 43,
     "metadata": {},
     "output_type": "execute_result"
    }
   ],
   "source": [
    "usama.eyecolour"
   ]
  },
  {
   "cell_type": "code",
   "execution_count": 44,
   "id": "64e081a1",
   "metadata": {},
   "outputs": [
    {
     "data": {
      "text/plain": [
       "5.1"
      ]
     },
     "execution_count": 44,
     "metadata": {},
     "output_type": "execute_result"
    }
   ],
   "source": [
    "usama.height"
   ]
  },
  {
   "cell_type": "code",
   "execution_count": 45,
   "id": "eae6aae8",
   "metadata": {},
   "outputs": [
    {
     "data": {
      "text/plain": [
       "60"
      ]
     },
     "execution_count": 45,
     "metadata": {},
     "output_type": "execute_result"
    }
   ],
   "source": [
    "usama.weight"
   ]
  },
  {
   "cell_type": "code",
   "execution_count": 51,
   "id": "8f773ed2",
   "metadata": {},
   "outputs": [
    {
     "name": "stdout",
     "output_type": "stream",
     "text": [
      "he is studying data engineering\n"
     ]
    }
   ],
   "source": [
    "usama.study()"
   ]
  },
  {
   "cell_type": "code",
   "execution_count": 40,
   "id": "28c08079",
   "metadata": {},
   "outputs": [
    {
     "name": "stdout",
     "output_type": "stream",
     "text": [
      "he walks daily\n"
     ]
    }
   ],
   "source": [
    "usama.walk()"
   ]
  },
  {
   "cell_type": "code",
   "execution_count": 49,
   "id": "eb93633f",
   "metadata": {},
   "outputs": [
    {
     "name": "stdout",
     "output_type": "stream",
     "text": [
      "he plays cricket\n"
     ]
    }
   ],
   "source": [
    "usama.play()"
   ]
  },
  {
   "cell_type": "code",
   "execution_count": 62,
   "id": "f770eaaf",
   "metadata": {},
   "outputs": [],
   "source": [
    "class Person():\n",
    "    name = \"usama\"\n",
    "    def __init__(self, haircolour, eyecolour, skincolour, height, weight, name = \"usama\"):\n",
    "        self.haircolour = haircolour\n",
    "        self.eyecolour = eyecolour\n",
    "        self.skincolour = skincolour\n",
    "        self.height = height\n",
    "        self.weight = weight\n",
    "        Person.name = name\n",
    "        \n",
    "        \n",
    "    def eat(self):\n",
    "        print(\"he can eat\")\n",
    "        \n",
    "    def sleep(self):\n",
    "        print(\"he sleeps at night\")\n",
    "        \n",
    "    def walk(self):\n",
    "        print(\"he walks daily\")\n",
    "        \n",
    "    def play():\n",
    "        print(\"he plays cricket\")\n",
    "        \n",
    "    def study():\n",
    "        print(\"he is studying data engineering\")"
   ]
  },
  {
   "cell_type": "code",
   "execution_count": 59,
   "id": "0e2845f5",
   "metadata": {},
   "outputs": [
    {
     "data": {
      "text/plain": [
       "'usama'"
      ]
     },
     "execution_count": 59,
     "metadata": {},
     "output_type": "execute_result"
    }
   ],
   "source": [
    "Person.name"
   ]
  },
  {
   "cell_type": "code",
   "execution_count": 63,
   "id": "9644c3d4",
   "metadata": {},
   "outputs": [
    {
     "data": {
      "text/plain": [
       "'usama'"
      ]
     },
     "execution_count": 63,
     "metadata": {},
     "output_type": "execute_result"
    }
   ],
   "source": [
    "usama.name"
   ]
  },
  {
   "cell_type": "markdown",
   "id": "d30067c6",
   "metadata": {},
   "source": [
    "- created a class with attributes and methods\n",
    "- create static variables using __init__\n",
    "- created class variables\n",
    "    - static\n",
    "    - dynamic\n",
    "    - __init_\n",
    "    - updatename method\n",
    "    "
   ]
  },
  {
   "cell_type": "code",
   "execution_count": 64,
   "id": "caabc90d",
   "metadata": {},
   "outputs": [],
   "source": [
    "class Person():\n",
    "    name = \"usama\"\n",
    "    def __init__(self, haircolour, eyecolour, skincolour, height, weight):\n",
    "        self.haircolour = haircolour\n",
    "        self.eyecolour = eyecolour\n",
    "        self.skincolour = skincolour\n",
    "        self.height = height\n",
    "        self.weight = weight\n",
    "        Person.name = name\n",
    "        \n",
    "    def update_name(self, name):\n",
    "        Person.name = name\n",
    "        \n",
    "    def eat(self):\n",
    "        print(\"he can eat\")\n",
    "        \n",
    "    def sleep(self):\n",
    "        print(\"he sleeps at night\")\n",
    "        \n",
    "    def walk(self):\n",
    "        print(\"he walks daily\")\n",
    "        \n",
    "    def play():\n",
    "        print(\"he plays cricket\")\n",
    "        \n",
    "    def study():\n",
    "        print(\"he is studying data engineering\")"
   ]
  },
  {
   "cell_type": "markdown",
   "id": "c53cac2e",
   "metadata": {},
   "source": [
    "###  OOP (Object Oriented Programming)"
   ]
  },
  {
   "cell_type": "markdown",
   "id": "de11fc03",
   "metadata": {},
   "source": [
    "- Inheritance\n",
    "- Polymorphism\n",
    "- Abstraction\n",
    "- Encaplsulation"
   ]
  },
  {
   "cell_type": "markdown",
   "id": "ac89caca",
   "metadata": {},
   "source": [
    "### Inheritance\n",
    "- single parent single child\n",
    "- extra attribute for single parent single child inheritance\n",
    "- extra methods for single parent single child inheritance"
   ]
  },
  {
   "cell_type": "code",
   "execution_count": 78,
   "id": "d09ee594",
   "metadata": {},
   "outputs": [],
   "source": [
    "class Parent():\n",
    "    def __init__(self):\n",
    "        self.haircolour = \"brown\"\n",
    "        self.eyecolour = \"brown\"\n",
    "        \n",
    "    def property(self):\n",
    "        print(f\"has a car\")\n",
    "\n",
    "class Child(Parent):\n",
    "    def __init__(self, height):\n",
    "        super().__init__() # initialize parent variable. super is use when there is one parent class otherwise use classname.__init__\n",
    "        self.height = height\n",
    "        \n",
    "    def study(self):\n",
    "        print(\"studying data engineering\")\n",
    "        "
   ]
  },
  {
   "cell_type": "code",
   "execution_count": 79,
   "id": "0f528340",
   "metadata": {},
   "outputs": [],
   "source": [
    "usama = Child(6)"
   ]
  },
  {
   "cell_type": "code",
   "execution_count": 80,
   "id": "fdc0a97c",
   "metadata": {},
   "outputs": [
    {
     "data": {
      "text/plain": [
       "'brown'"
      ]
     },
     "execution_count": 80,
     "metadata": {},
     "output_type": "execute_result"
    }
   ],
   "source": [
    "usama.haircolour"
   ]
  },
  {
   "cell_type": "code",
   "execution_count": 81,
   "id": "43d5b461",
   "metadata": {},
   "outputs": [
    {
     "name": "stdout",
     "output_type": "stream",
     "text": [
      "has a car\n"
     ]
    }
   ],
   "source": [
    "usama.property()"
   ]
  },
  {
   "cell_type": "code",
   "execution_count": 82,
   "id": "9674158c",
   "metadata": {},
   "outputs": [
    {
     "data": {
      "text/plain": [
       "6"
      ]
     },
     "execution_count": 82,
     "metadata": {},
     "output_type": "execute_result"
    }
   ],
   "source": [
    "usama.height"
   ]
  },
  {
   "cell_type": "code",
   "execution_count": 83,
   "id": "c0726522",
   "metadata": {},
   "outputs": [
    {
     "name": "stdout",
     "output_type": "stream",
     "text": [
      "studying data engineering\n"
     ]
    }
   ],
   "source": [
    "usama.study()"
   ]
  },
  {
   "cell_type": "code",
   "execution_count": 88,
   "id": "85d18608",
   "metadata": {},
   "outputs": [],
   "source": [
    "class Animal():\n",
    "        \n",
    "    def eat(self):\n",
    "        print(\"they can eat\")\n",
    "        \n",
    "    def sleep(self):\n",
    "        print(\"they sleep\")\n",
    "        \n",
    "class Dog(Animal):\n",
    "    \n",
    "    def bark(self):\n",
    "        print(\"Dogs bark at night\")"
   ]
  },
  {
   "cell_type": "code",
   "execution_count": 89,
   "id": "953ff443",
   "metadata": {},
   "outputs": [],
   "source": [
    "dog = Dog()\n"
   ]
  },
  {
   "cell_type": "code",
   "execution_count": 90,
   "id": "0fee71fc",
   "metadata": {},
   "outputs": [
    {
     "name": "stdout",
     "output_type": "stream",
     "text": [
      "Dogs bark at night\n"
     ]
    }
   ],
   "source": [
    "dog.bark()"
   ]
  },
  {
   "cell_type": "code",
   "execution_count": 91,
   "id": "a3f611d4",
   "metadata": {},
   "outputs": [
    {
     "name": "stdout",
     "output_type": "stream",
     "text": [
      "they can eat\n"
     ]
    }
   ],
   "source": [
    "dog.eat()"
   ]
  },
  {
   "cell_type": "code",
   "execution_count": 92,
   "id": "c0397133",
   "metadata": {},
   "outputs": [],
   "source": [
    "dogg = Animal()"
   ]
  },
  {
   "cell_type": "code",
   "execution_count": 93,
   "id": "efce3b56",
   "metadata": {},
   "outputs": [
    {
     "name": "stdout",
     "output_type": "stream",
     "text": [
      "they sleep\n"
     ]
    }
   ],
   "source": [
    "dogg.sleep()"
   ]
  },
  {
   "cell_type": "code",
   "execution_count": null,
   "id": "6487d430",
   "metadata": {},
   "outputs": [],
   "source": []
  }
 ],
 "metadata": {
  "kernelspec": {
   "display_name": "Python 3 (ipykernel)",
   "language": "python",
   "name": "python3"
  },
  "language_info": {
   "codemirror_mode": {
    "name": "ipython",
    "version": 3
   },
   "file_extension": ".py",
   "mimetype": "text/x-python",
   "name": "python",
   "nbconvert_exporter": "python",
   "pygments_lexer": "ipython3",
   "version": "3.10.8"
  }
 },
 "nbformat": 4,
 "nbformat_minor": 5
}
