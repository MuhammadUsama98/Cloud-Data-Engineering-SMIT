{
 "cells": [
  {
   "cell_type": "markdown",
   "id": "90ddada5",
   "metadata": {},
   "source": [
    "# JSON Handling"
   ]
  },
  {
   "cell_type": "markdown",
   "id": "15d47ae3",
   "metadata": {},
   "source": [
    "- Javascript Object Notation"
   ]
  },
  {
   "cell_type": "code",
   "execution_count": 2,
   "id": "e1e03709",
   "metadata": {},
   "outputs": [
    {
     "data": {
      "text/plain": [
       "{'name': 'Usama', 'age': 25}"
      ]
     },
     "execution_count": 2,
     "metadata": {},
     "output_type": "execute_result"
    }
   ],
   "source": [
    "#Syntax:\n",
    "{'name' : \"Usama\", 'age' : 25}"
   ]
  },
  {
   "cell_type": "code",
   "execution_count": 4,
   "id": "93867e3b",
   "metadata": {},
   "outputs": [],
   "source": [
    "names = '[\"Usama\", \"Qasim\", \"Hussain\"]'\n",
    "with open(\"names.txt\", \"w\") as file:\n",
    "    file.write(names)"
   ]
  },
  {
   "cell_type": "raw",
   "id": "5050329c",
   "metadata": {},
   "source": [
    "- json.dump --> strings to json\n",
    "- json.loads --> "
   ]
  },
  {
   "cell_type": "code",
   "execution_count": 6,
   "id": "a5060742",
   "metadata": {},
   "outputs": [],
   "source": [
    "import json\n",
    "names = [\"Usama\", \"Qasim\", \"Hussain\"]\n",
    "with open(\"names1.json\", \"w\") as file:\n",
    "    data = json.dump(names, file)"
   ]
  },
  {
   "cell_type": "code",
   "execution_count": 7,
   "id": "497d711a",
   "metadata": {},
   "outputs": [],
   "source": [
    "customer_29876 = {\n",
    " \"first name\": \"David\",\n",
    " \"last name\": \"Elliott\",\n",
    " \"address\": \"4803 Wellesley St.\",\n",
    " }\n",
    "with open(\"customer_29876.json\", \"w\") as f:\n",
    "    json.dump(customer_29876, f)"
   ]
  },
  {
   "cell_type": "code",
   "execution_count": 9,
   "id": "d179a3b6",
   "metadata": {},
   "outputs": [
    {
     "name": "stdout",
     "output_type": "stream",
     "text": [
      "{'first name': 'David', 'last name': 'Elliott', 'address': '4803 Wellesley St.'}\n"
     ]
    }
   ],
   "source": [
    "with open(\"customer_29876.json\") as f:\n",
    "    customer_29876 = json.load(f)\n",
    "    print(customer_29876)"
   ]
  },
  {
   "cell_type": "code",
   "execution_count": 10,
   "id": "d7b63094",
   "metadata": {},
   "outputs": [
    {
     "name": "stdout",
     "output_type": "stream",
     "text": [
      "Elliott\n"
     ]
    }
   ],
   "source": [
    "print(customer_29876[\"last name\"])"
   ]
  },
  {
   "cell_type": "code",
   "execution_count": 18,
   "id": "3055c33f",
   "metadata": {},
   "outputs": [
    {
     "name": "stdout",
     "output_type": "stream",
     "text": [
      "{\"name\" : \"USAMA\", \"age\" : 25, \"city\" : \"Karachi\"}\n"
     ]
    }
   ],
   "source": [
    "def parse(json_string):\n",
    "    with open(\"json_string.json\", \"w\") as f:\n",
    "        json.dump(json_string, f)\n",
    "    with open(\"json_string.json\") as f:\n",
    "        data = json.load(f)\n",
    "        print(data)\n",
    "    \n",
    "json_string = '{\"name\" : \"USAMA\", \"age\" : 25, \"city\" : \"Karachi\"}'\n",
    "parse(json_string)"
   ]
  },
  {
   "cell_type": "code",
   "execution_count": 20,
   "id": "0a4ff107",
   "metadata": {},
   "outputs": [
    {
     "name": "stdout",
     "output_type": "stream",
     "text": [
      "{'name': 'USAMA', 'age': 25, 'city': 'Karachi'}\n"
     ]
    }
   ],
   "source": [
    "def parse(json_string):\n",
    "    return json.loads(json_string)\n",
    "\n",
    "json_string = '{\"name\" : \"USAMA\", \"age\" : 25, \"city\" : \"Karachi\"}'\n",
    "value = parse(json_string)\n",
    "print(value)\n"
   ]
  },
  {
   "cell_type": "markdown",
   "id": "e89faf23",
   "metadata": {},
   "source": [
    "# Error Handling"
   ]
  },
  {
   "cell_type": "raw",
   "id": "e7db481c",
   "metadata": {},
   "source": [
    "syntax:\n",
    "    \n",
    "try:\n",
    "    error might be excepted\n",
    "except:\n",
    "    after error occured"
   ]
  },
  {
   "cell_type": "code",
   "execution_count": 21,
   "id": "776ce7ae",
   "metadata": {},
   "outputs": [
    {
     "name": "stdout",
     "output_type": "stream",
     "text": [
      "file not found\n"
     ]
    }
   ],
   "source": [
    "try:\n",
    "    with open(\"usama.txt\", \"r\") as file:\n",
    "        read = f.read()\n",
    "except:\n",
    "    print(\"file not found\")"
   ]
  },
  {
   "cell_type": "code",
   "execution_count": 22,
   "id": "d37a4ff3",
   "metadata": {},
   "outputs": [
    {
     "name": "stdout",
     "output_type": "stream",
     "text": [
      "this line will run\n",
      "file not found\n"
     ]
    }
   ],
   "source": [
    "try:\n",
    "    print(\"this line will run\")\n",
    "    with open(\"usama.txt\", \"r\") as file:\n",
    "        print(\"not run\")\n",
    "        read = f.read()\n",
    "except:\n",
    "    print(\"file not found\")"
   ]
  },
  {
   "cell_type": "code",
   "execution_count": 23,
   "id": "fedab833",
   "metadata": {},
   "outputs": [
    {
     "name": "stdout",
     "output_type": "stream",
     "text": [
      "this line will run\n",
      "not run\n",
      "['Usama', 'Qasim', 'Hussain']\n"
     ]
    }
   ],
   "source": [
    "try:\n",
    "    print(\"this line will run\")\n",
    "    with open(\"names.txt\", \"r\") as file:\n",
    "        print(\"not run\")\n",
    "        data = json.load(file)\n",
    "        print(data)\n",
    "except:\n",
    "    print(\"file not found\")"
   ]
  },
  {
   "cell_type": "code",
   "execution_count": 25,
   "id": "b67e7de2",
   "metadata": {},
   "outputs": [
    {
     "name": "stdout",
     "output_type": "stream",
     "text": [
      "enter a number one\n",
      "error\n"
     ]
    }
   ],
   "source": [
    "try:\n",
    "    value = int(input(\"enter a number \"))\n",
    "    result = \"your number is \" + value\n",
    "    print(result)\n",
    "except:\n",
    "    print(\"error\")"
   ]
  },
  {
   "cell_type": "markdown",
   "id": "535e8423",
   "metadata": {},
   "source": [
    "### Exception"
   ]
  },
  {
   "cell_type": "code",
   "execution_count": 26,
   "id": "16491b15",
   "metadata": {},
   "outputs": [
    {
     "name": "stdout",
     "output_type": "stream",
     "text": [
      "enter a number 4\n",
      "can only concatenate str (not \"int\") to str\n"
     ]
    }
   ],
   "source": [
    "try:\n",
    "    value = int(input(\"enter a number \"))\n",
    "    result = \"your number is \" + value\n",
    "    print(result)\n",
    "except Exception as e:\n",
    "    print(e)"
   ]
  },
  {
   "cell_type": "code",
   "execution_count": 28,
   "id": "04007477",
   "metadata": {},
   "outputs": [
    {
     "name": "stdout",
     "output_type": "stream",
     "text": [
      "this line will run\n",
      "[Errno 2] No such file or directory: 'name.txt'\n"
     ]
    }
   ],
   "source": [
    "try:\n",
    "    print(\"this line will run\")\n",
    "    with open(\"name.txt\", \"r\") as file:\n",
    "        print(\"not run\")\n",
    "        data = json.load(file)\n",
    "        print(data)\n",
    "except Exception as e:\n",
    "    print(e)"
   ]
  },
  {
   "cell_type": "code",
   "execution_count": 29,
   "id": "5d2750d8",
   "metadata": {},
   "outputs": [
    {
     "name": "stdout",
     "output_type": "stream",
     "text": [
      "enter a number 4\n",
      "can only concatenate str (not \"int\") to str\n",
      "enter a number 4\n",
      "your number is 4\n"
     ]
    }
   ],
   "source": [
    "try:\n",
    "    value = int(input(\"enter a number \"))\n",
    "    result = \"your number is \" + value\n",
    "    print(result)\n",
    "except Exception as e:\n",
    "    print(e)\n",
    "    value = input(\"enter a number \")\n",
    "    result = \"your number is \" + value\n",
    "    print(result)"
   ]
  },
  {
   "cell_type": "markdown",
   "id": "127291a5",
   "metadata": {},
   "source": [
    "#### Syntax Error"
   ]
  },
  {
   "cell_type": "code",
   "execution_count": 43,
   "id": "c8daf3df",
   "metadata": {},
   "outputs": [
    {
     "name": "stdout",
     "output_type": "stream",
     "text": [
      "can only concatenate str (not \"int\") to str\n"
     ]
    }
   ],
   "source": [
    "try:\n",
    "    print(\"smit\"+ 45)\n",
    "except SyntaxError as e:\n",
    "    print(e)\n",
    "except Exception as e:\n",
    "    print(e)"
   ]
  },
  {
   "cell_type": "markdown",
   "id": "8ba75ce3",
   "metadata": {},
   "source": [
    "### Name Error"
   ]
  },
  {
   "cell_type": "code",
   "execution_count": 46,
   "id": "a0a8e250",
   "metadata": {},
   "outputs": [
    {
     "name": "stdout",
     "output_type": "stream",
     "text": [
      "name 'name' is not defined\n"
     ]
    }
   ],
   "source": [
    "names = [\"usama\", \"qasim\", \"hussain\"]\n",
    "try:\n",
    "    print(name)\n",
    "# except Exception as e:\n",
    "#     print(e)\n",
    "except NameError as e:\n",
    "    print(e)"
   ]
  },
  {
   "cell_type": "markdown",
   "id": "73d9138c",
   "metadata": {},
   "source": [
    "### Finally"
   ]
  },
  {
   "cell_type": "raw",
   "id": "f4e59e3d",
   "metadata": {},
   "source": [
    "syntax:\n",
    "    \n",
    "try:\n",
    "    error might be excepted\n",
    "except:\n",
    "    after error occured\n",
    "else:\n",
    "    run after try block\n",
    "finally:\n",
    "    always executed"
   ]
  },
  {
   "cell_type": "code",
   "execution_count": 48,
   "id": "9fb2f5eb",
   "metadata": {},
   "outputs": [
    {
     "name": "stdout",
     "output_type": "stream",
     "text": [
      "['usama', 'qasim', 'hussain']\n",
      "always executed\n"
     ]
    }
   ],
   "source": [
    "names = [\"usama\", \"qasim\", \"hussain\"]\n",
    "try:\n",
    "    print(names)\n",
    "# except Exception as e:\n",
    "#     print(e)\n",
    "except NameError as e:\n",
    "    print(e)\n",
    "finally:\n",
    "    print(\"always executed\")"
   ]
  },
  {
   "cell_type": "markdown",
   "id": "f741ff62",
   "metadata": {},
   "source": [
    "### Zero Error division"
   ]
  },
  {
   "cell_type": "code",
   "execution_count": 61,
   "id": "236e1de0",
   "metadata": {},
   "outputs": [
    {
     "name": "stdout",
     "output_type": "stream",
     "text": [
      "enter any number 0\n",
      "division by zero\n"
     ]
    }
   ],
   "source": [
    "number = int(input(\"enter any number \"))\n",
    "try:\n",
    "    division = 100 / number\n",
    "    print(division)\n",
    "except ZeroDivisionError as e:\n",
    "    print(e)\n",
    "# except Exception as e:\n",
    "#     print(e)   "
   ]
  },
  {
   "cell_type": "markdown",
   "id": "993c6048",
   "metadata": {},
   "source": [
    "### File Not Found"
   ]
  },
  {
   "cell_type": "code",
   "execution_count": 62,
   "id": "2d10df35",
   "metadata": {},
   "outputs": [
    {
     "name": "stdout",
     "output_type": "stream",
     "text": [
      "this line will run\n",
      "[Errno 2] No such file or directory: 'name.txt'\n"
     ]
    }
   ],
   "source": [
    "try:\n",
    "    print(\"this line will run\")\n",
    "    with open(\"name.txt\", \"r\") as file:\n",
    "        print(\"not run\")\n",
    "        data = json.load(file)\n",
    "        print(data)\n",
    "except FileNotFoundError as e:\n",
    "    print(e)"
   ]
  },
  {
   "cell_type": "markdown",
   "id": "0fe64324",
   "metadata": {},
   "source": [
    "### PermissionError"
   ]
  },
  {
   "cell_type": "code",
   "execution_count": 69,
   "id": "56db1c09",
   "metadata": {},
   "outputs": [
    {
     "ename": "UnsupportedOperation",
     "evalue": "not readable",
     "output_type": "error",
     "traceback": [
      "\u001b[1;31m---------------------------------------------------------------------------\u001b[0m",
      "\u001b[1;31mUnsupportedOperation\u001b[0m                      Traceback (most recent call last)",
      "Cell \u001b[1;32mIn[69], line 4\u001b[0m\n\u001b[0;32m      2\u001b[0m \u001b[38;5;28;01mtry\u001b[39;00m:\n\u001b[0;32m      3\u001b[0m     \u001b[38;5;28;01mwith\u001b[39;00m \u001b[38;5;28mopen\u001b[39m(\u001b[38;5;124m\"\u001b[39m\u001b[38;5;124mnames.txt\u001b[39m\u001b[38;5;124m\"\u001b[39m, \u001b[38;5;124m\"\u001b[39m\u001b[38;5;124mw\u001b[39m\u001b[38;5;124m\"\u001b[39m) \u001b[38;5;28;01mas\u001b[39;00m f:\n\u001b[1;32m----> 4\u001b[0m         \u001b[43mf\u001b[49m\u001b[38;5;241;43m.\u001b[39;49m\u001b[43mread\u001b[49m\u001b[43m(\u001b[49m\u001b[43m)\u001b[49m\n\u001b[0;32m      5\u001b[0m \u001b[38;5;28;01mexcept\u001b[39;00m \u001b[38;5;167;01mPermissionError\u001b[39;00m \u001b[38;5;28;01mas\u001b[39;00m e:\n\u001b[0;32m      6\u001b[0m     \u001b[38;5;28mprint\u001b[39m(e)\n",
      "\u001b[1;31mUnsupportedOperation\u001b[0m: not readable"
     ]
    }
   ],
   "source": [
    "#Write a Python program that opens a file and handles a PermissionError exception if there is a permission issue\n",
    "try:\n",
    "    with open(\"names.txt\", \"w\") as f:\n",
    "        f.read()\n",
    "except PermissionError as e:\n",
    "    print(e)"
   ]
  },
  {
   "cell_type": "code",
   "execution_count": 75,
   "id": "801cb8ab",
   "metadata": {},
   "outputs": [
    {
     "name": "stdout",
     "output_type": "stream",
     "text": [
      "Input a file name: names.txt\n",
      "File contents:\n",
      "\n"
     ]
    }
   ],
   "source": [
    "\n",
    "\n",
    "# Define a function named open_file that takes a filename as a parameter.\n",
    "def open_file(filename):\n",
    "    try:\n",
    "        # Attempt to open the specified file in write mode ('w') using a 'with' statement.\n",
    "        with open(filename, 'r') as file:\n",
    "            # Try to read the contents of the file, but this code will not be executed because the file is opened in write mode.\n",
    "            contents = file.read()\n",
    "            # Print a message to indicate that the file contents will be displayed (this will not happen).\n",
    "            print(\"File contents:\")\n",
    "            # Print the contents of the file (this will not happen).\n",
    "            print(contents)\n",
    "    except PermissionError:\n",
    "        # Handle the exception if there is a permission denied error while opening the file.\n",
    "        print(\"Error: Permission denied to open the file.\")\n",
    "\n",
    "# Usage\n",
    "# Prompt the user to input a file name and store it in the 'file_name' variable.\n",
    "file_name = input(\"Input a file name: \")\n",
    "# Call the open_file function with the provided file name, attempting to open the file in write mode.\n",
    "open_file(file_name)"
   ]
  },
  {
   "cell_type": "code",
   "execution_count": 1,
   "id": "9658d791",
   "metadata": {},
   "outputs": [],
   "source": [
    "from io import UnsupportedOperation"
   ]
  },
  {
   "cell_type": "code",
   "execution_count": null,
   "id": "237cb2b2",
   "metadata": {},
   "outputs": [],
   "source": [
    "# Define a function named open_file that takes a filename as a parameter.\n",
    "def open_file(filename):\n",
    "    try:\n",
    "        # Attempt to open the specified file in write mode ('w') using a 'with' statement.\n",
    "        with open(filename, 'r') as file:\n",
    "            # Try to read the contents of the file, but this code will not be executed because the file is opened in write mode.\n",
    "            contents = file.read()\n",
    "            # Print a message to indicate that the file contents will be displayed (this will not happen).\n",
    "            print(\"File contents:\")\n",
    "            # Print the contents of the file (this will not happen).\n",
    "            print(contents)\n",
    "    except PermissionError:\n",
    "        # Handle the exception if there is a permission denied error while opening the file.\n",
    "        print(\"Error: Permission denied to open the file.\")\n",
    "\n",
    "# Usage\n",
    "# Prompt the user to input a file name and store it in the 'file_name' variable.\n",
    "file_name = input(\"Input a file name: \")\n",
    "# Call the open_file function with the provided file name, attempting to open the file in write mode.\n",
    "open_file(file_name)"
   ]
  }
 ],
 "metadata": {
  "kernelspec": {
   "display_name": "Python 3 (ipykernel)",
   "language": "python",
   "name": "python3"
  },
  "language_info": {
   "codemirror_mode": {
    "name": "ipython",
    "version": 3
   },
   "file_extension": ".py",
   "mimetype": "text/x-python",
   "name": "python",
   "nbconvert_exporter": "python",
   "pygments_lexer": "ipython3",
   "version": "3.10.8"
  }
 },
 "nbformat": 4,
 "nbformat_minor": 5
}
