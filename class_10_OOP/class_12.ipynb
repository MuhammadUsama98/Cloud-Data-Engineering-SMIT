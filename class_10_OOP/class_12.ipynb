{
 "cells": [
  {
   "cell_type": "markdown",
   "id": "7fc75c8f",
   "metadata": {},
   "source": [
    "class Parent():\n",
    "    def __init__(self):\n",
    "        self.haircolour = \"brown\"\n",
    "        self.eyecolour = \"brown\"\n",
    "        \n",
    "    def property(self):\n",
    "        print(f\"has a car\")\n",
    "\n",
    "class Child(Parent):\n",
    "    def __init__(self, height):\n",
    "        super().__init__() # initialize parent variable. super is use when there is one parent class otherwise use classname.__init__\n",
    "        self.height = height\n",
    "        \n",
    "    def study(self):\n",
    "        print(\"studying data engineering\")"
   ]
  },
  {
   "cell_type": "markdown",
   "id": "fbe7b8bf",
   "metadata": {},
   "source": [
    "### Multi Class Inheritance"
   ]
  },
  {
   "cell_type": "code",
   "execution_count": 9,
   "id": "4a575ab5",
   "metadata": {},
   "outputs": [],
   "source": [
    "class Father():\n",
    "    def __init__(self, haircolor):\n",
    "        self.haircolor = haircolor\n",
    "        \n",
    "    def drive(self):\n",
    "        print(\"can drive\")\n",
    "        \n",
    "class Mother():\n",
    "    def __init__(self, eyecolor):\n",
    "        self.eyecolor = eyecolor\n",
    "        \n",
    "    def cooking(self):\n",
    "        print(\"can cook\")\n",
    "        \n",
    "class Child(Father, Mother):\n",
    "    def __init__(self, name, haircolor, eyecolor):\n",
    "        Father.__init__(self, haircolor)\n",
    "        Mother.__init__(self, eyecolor)\n",
    "        self.name = name\n",
    "        \n",
    "    def football(self):\n",
    "        print(\"can play football\")\n",
    "        "
   ]
  },
  {
   "cell_type": "code",
   "execution_count": 10,
   "id": "d6a47ad2",
   "metadata": {},
   "outputs": [],
   "source": [
    "child_obj = Child(\"Usama\", \"brown\", \"black\")"
   ]
  },
  {
   "cell_type": "code",
   "execution_count": 11,
   "id": "c8be049b",
   "metadata": {},
   "outputs": [
    {
     "data": {
      "text/plain": [
       "'Usama'"
      ]
     },
     "execution_count": 11,
     "metadata": {},
     "output_type": "execute_result"
    }
   ],
   "source": [
    "child_obj.name"
   ]
  },
  {
   "cell_type": "code",
   "execution_count": 12,
   "id": "9e19362c",
   "metadata": {},
   "outputs": [
    {
     "data": {
      "text/plain": [
       "'brown'"
      ]
     },
     "execution_count": 12,
     "metadata": {},
     "output_type": "execute_result"
    }
   ],
   "source": [
    "child_obj.haircolor"
   ]
  },
  {
   "cell_type": "code",
   "execution_count": 13,
   "id": "13965e47",
   "metadata": {},
   "outputs": [
    {
     "data": {
      "text/plain": [
       "'black'"
      ]
     },
     "execution_count": 13,
     "metadata": {},
     "output_type": "execute_result"
    }
   ],
   "source": [
    "child_obj.eyecolor"
   ]
  },
  {
   "cell_type": "code",
   "execution_count": 15,
   "id": "5a158391",
   "metadata": {},
   "outputs": [
    {
     "name": "stdout",
     "output_type": "stream",
     "text": [
      "can play football\n"
     ]
    }
   ],
   "source": [
    "child_obj.football()"
   ]
  },
  {
   "cell_type": "code",
   "execution_count": 16,
   "id": "34e0f4b5",
   "metadata": {},
   "outputs": [
    {
     "name": "stdout",
     "output_type": "stream",
     "text": [
      "can cook\n"
     ]
    }
   ],
   "source": [
    "child_obj.cooking()"
   ]
  },
  {
   "cell_type": "code",
   "execution_count": 17,
   "id": "8d68e0ca",
   "metadata": {},
   "outputs": [],
   "source": [
    "mother_obj = Mother(\"black\")"
   ]
  },
  {
   "cell_type": "code",
   "execution_count": 18,
   "id": "c0158ca5",
   "metadata": {},
   "outputs": [
    {
     "name": "stdout",
     "output_type": "stream",
     "text": [
      "can cook\n"
     ]
    }
   ],
   "source": [
    "mother_obj.cooking()"
   ]
  },
  {
   "cell_type": "code",
   "execution_count": 10,
   "id": "759ce9d0",
   "metadata": {},
   "outputs": [],
   "source": [
    "class Vehicle():\n",
    "    def __init__(self, started, speed):\n",
    "        self.started = \"yes\"\n",
    "        self.speed = 120\n",
    "        \n",
    "    def start(self):\n",
    "        print(\"can start\")\n",
    "        \n",
    "    def increase_speed(self):\n",
    "        print(\"can change in speed\")\n",
    "        \n",
    "class Car(Vehicle):\n",
    "    def __init__(self, trunk_open):\n",
    "        super().__init__()\n",
    "        self.trunk_open = trunk_open\n",
    "    \n",
    "    def open_trunk(self):\n",
    "        print(\"it has trunk\")\n",
    "        \n",
    "    def close_trunk(self):\n",
    "        print(\"trunk can close\")\n",
    "        \n",
    "class Motorcycle(Vehicle):\n",
    "    def __init__(self, center_stand_out):\n",
    "        super().__init__()\n",
    "        self.center_stand_out = center_stand_out\n",
    "        \n",
    "        "
   ]
  },
  {
   "cell_type": "code",
   "execution_count": 9,
   "id": "98cb2f13",
   "metadata": {},
   "outputs": [
    {
     "ename": "TypeError",
     "evalue": "Car.__init__() takes 2 positional arguments but 3 were given",
     "output_type": "error",
     "traceback": [
      "\u001b[1;31m---------------------------------------------------------------------------\u001b[0m",
      "\u001b[1;31mTypeError\u001b[0m                                 Traceback (most recent call last)",
      "Cell \u001b[1;32mIn[9], line 1\u001b[0m\n\u001b[1;32m----> 1\u001b[0m car1 \u001b[38;5;241m=\u001b[39m \u001b[43mCar\u001b[49m\u001b[43m(\u001b[49m\u001b[38;5;124;43m\"\u001b[39;49m\u001b[38;5;124;43myes\u001b[39;49m\u001b[38;5;124;43m\"\u001b[39;49m\u001b[43m,\u001b[49m\u001b[43m \u001b[49m\u001b[38;5;124;43m\"\u001b[39;49m\u001b[38;5;124;43mno\u001b[39;49m\u001b[38;5;124;43m\"\u001b[39;49m\u001b[43m)\u001b[49m \n",
      "\u001b[1;31mTypeError\u001b[0m: Car.__init__() takes 2 positional arguments but 3 were given"
     ]
    }
   ],
   "source": [
    "car1 = Car(\"yes\", \"no\") "
   ]
  },
  {
   "cell_type": "code",
   "execution_count": 31,
   "id": "58f63cd7",
   "metadata": {},
   "outputs": [],
   "source": [
    "car1.close_trunk()"
   ]
  },
  {
   "cell_type": "markdown",
   "id": "4a105756",
   "metadata": {},
   "source": [
    "# Abstraction"
   ]
  },
  {
   "cell_type": "code",
   "execution_count": 12,
   "id": "6bbfdd0f",
   "metadata": {},
   "outputs": [],
   "source": [
    "class Shapes():\n",
    "    def sides(self): #abstract method\n",
    "        pass"
   ]
  },
  {
   "cell_type": "code",
   "execution_count": 15,
   "id": "908c9385",
   "metadata": {},
   "outputs": [],
   "source": [
    "class Triangle(Shapes):\n",
    "    def sides(self):\n",
    "        print(\"triangle has three sides\")\n",
    "        \n",
    "class Square(Shapes):\n",
    "    def sides(self):\n",
    "        print(\"square has four sides\")"
   ]
  },
  {
   "cell_type": "code",
   "execution_count": 17,
   "id": "c015acd8",
   "metadata": {},
   "outputs": [],
   "source": [
    "square_obj = Square()"
   ]
  },
  {
   "cell_type": "code",
   "execution_count": 18,
   "id": "7c6cf9be",
   "metadata": {},
   "outputs": [
    {
     "name": "stdout",
     "output_type": "stream",
     "text": [
      "square has four sides\n"
     ]
    }
   ],
   "source": [
    "square_obj.sides()"
   ]
  },
  {
   "cell_type": "markdown",
   "id": "3835a746",
   "metadata": {},
   "source": [
    "# Polymorphism"
   ]
  },
  {
   "cell_type": "code",
   "execution_count": 19,
   "id": "68e61fbd",
   "metadata": {},
   "outputs": [],
   "source": [
    "class Animal():\n",
    "    def eating(self):\n",
    "        print(\"animal is eating\")\n",
    "        \n",
    "class Bird(Animal):\n",
    "    def eating(self):\n",
    "        print(\"bird is eating...\")"
   ]
  },
  {
   "cell_type": "code",
   "execution_count": 20,
   "id": "20e29b5c",
   "metadata": {},
   "outputs": [],
   "source": [
    "animal_obj = Animal()\n",
    "bird_obj = Bird()"
   ]
  },
  {
   "cell_type": "code",
   "execution_count": 21,
   "id": "ae1ad0e1",
   "metadata": {},
   "outputs": [
    {
     "name": "stdout",
     "output_type": "stream",
     "text": [
      "animal is eating\n"
     ]
    }
   ],
   "source": [
    "animal_obj.eating()"
   ]
  },
  {
   "cell_type": "code",
   "execution_count": 22,
   "id": "46a95157",
   "metadata": {},
   "outputs": [
    {
     "name": "stdout",
     "output_type": "stream",
     "text": [
      "bird is eating...\n"
     ]
    }
   ],
   "source": [
    "bird_obj.eating()"
   ]
  },
  {
   "cell_type": "code",
   "execution_count": 2,
   "id": "d344cffa",
   "metadata": {},
   "outputs": [
    {
     "ename": "NameError",
     "evalue": "name 'speed' is not defined",
     "output_type": "error",
     "traceback": [
      "\u001b[1;31m---------------------------------------------------------------------------\u001b[0m",
      "\u001b[1;31mNameError\u001b[0m                                 Traceback (most recent call last)",
      "Cell \u001b[1;32mIn[2], line 13\u001b[0m\n\u001b[0;32m     10\u001b[0m     \u001b[38;5;28;01mdef\u001b[39;00m \u001b[38;5;21mshow\u001b[39m(\u001b[38;5;28mself\u001b[39m):\n\u001b[0;32m     11\u001b[0m         \u001b[38;5;28mprint\u001b[39m(\u001b[38;5;124mf\u001b[39m\u001b[38;5;124m\"\u001b[39m\u001b[38;5;124mthe speed is \u001b[39m\u001b[38;5;132;01m{\u001b[39;00m\u001b[38;5;28mself\u001b[39m\u001b[38;5;241m.\u001b[39mspeed\u001b[38;5;132;01m}\u001b[39;00m\u001b[38;5;124m\"\u001b[39m)\n\u001b[1;32m---> 13\u001b[0m \u001b[38;5;28;01mclass\u001b[39;00m \u001b[38;5;21;01mCar\u001b[39;00m(Vehicle):\n\u001b[0;32m     14\u001b[0m     \u001b[38;5;28msuper\u001b[39m(speed)\u001b[38;5;241m.\u001b[39m\u001b[38;5;21m__init__\u001b[39m()\n\u001b[0;32m     15\u001b[0m     \u001b[38;5;28;01mdef\u001b[39;00m \u001b[38;5;21mspeed\u001b[39m(\u001b[38;5;28mself\u001b[39m):\n",
      "Cell \u001b[1;32mIn[2], line 14\u001b[0m, in \u001b[0;36mCar\u001b[1;34m()\u001b[0m\n\u001b[0;32m     13\u001b[0m \u001b[38;5;28;01mclass\u001b[39;00m \u001b[38;5;21;01mCar\u001b[39;00m(Vehicle):\n\u001b[1;32m---> 14\u001b[0m     \u001b[38;5;28msuper\u001b[39m(\u001b[43mspeed\u001b[49m)\u001b[38;5;241m.\u001b[39m\u001b[38;5;21m__init__\u001b[39m()\n\u001b[0;32m     15\u001b[0m     \u001b[38;5;28;01mdef\u001b[39;00m \u001b[38;5;21mspeed\u001b[39m(\u001b[38;5;28mself\u001b[39m):\n\u001b[0;32m     16\u001b[0m         \u001b[38;5;28mprint\u001b[39m(\u001b[38;5;124m\"\u001b[39m\u001b[38;5;124mmax speed is 240\u001b[39m\u001b[38;5;124m\"\u001b[39m)\n",
      "\u001b[1;31mNameError\u001b[0m: name 'speed' is not defined"
     ]
    }
   ],
   "source": [
    "class Vehicle():\n",
    "    def __init__(self, speed):\n",
    "        self.speed = speed\n",
    "    def speed(self):\n",
    "        print(\"max speed is 150\")\n",
    "        \n",
    "    def change_gear(self):\n",
    "        print(\"it has 5 gears\")\n",
    "        \n",
    "    def show(self):\n",
    "        print(f\"the speed is {self.speed}\")\n",
    "        \n",
    "class Car(Vehicle):\n",
    "    super().__init__(speed)\n",
    "    def speed(self):\n",
    "        print(\"max speed is 240\")\n",
    "        \n",
    "    def change_gear(self):\n",
    "        print(\"it has 6 gears\")\n",
    "        \n",
    "class Truck(Vehicle):\n",
    "    super().__init__(speed)\n",
    "    def speed(self):\n",
    "        print(\"max speed is 200\")\n",
    "        \n",
    "    def change_gear(self):\n",
    "        print(\"it has 8 gears\")"
   ]
  },
  {
   "cell_type": "code",
   "execution_count": 24,
   "id": "15fade7a",
   "metadata": {},
   "outputs": [],
   "source": [
    "car_obj = Car()"
   ]
  },
  {
   "cell_type": "code",
   "execution_count": 25,
   "id": "d3405281",
   "metadata": {},
   "outputs": [
    {
     "name": "stdout",
     "output_type": "stream",
     "text": [
      "max speed is 240\n"
     ]
    }
   ],
   "source": [
    "car_obj.speed()"
   ]
  },
  {
   "cell_type": "code",
   "execution_count": 34,
   "id": "59975154",
   "metadata": {},
   "outputs": [],
   "source": [
    "truck_obj = Truck()"
   ]
  },
  {
   "cell_type": "code",
   "execution_count": 35,
   "id": "298409c1",
   "metadata": {},
   "outputs": [
    {
     "name": "stdout",
     "output_type": "stream",
     "text": [
      "it has 8 gears\n"
     ]
    }
   ],
   "source": [
    "truck_obj.change_gear()"
   ]
  },
  {
   "cell_type": "code",
   "execution_count": 28,
   "id": "8791ec7a",
   "metadata": {},
   "outputs": [],
   "source": [
    "vehicle_obj = Vehicle()"
   ]
  },
  {
   "cell_type": "code",
   "execution_count": 29,
   "id": "8d0f007e",
   "metadata": {},
   "outputs": [
    {
     "name": "stdout",
     "output_type": "stream",
     "text": [
      "max speed is 150\n"
     ]
    }
   ],
   "source": [
    "vehicle_obj.speed()"
   ]
  },
  {
   "cell_type": "code",
   "execution_count": 30,
   "id": "14cdfcfc",
   "metadata": {},
   "outputs": [
    {
     "name": "stdout",
     "output_type": "stream",
     "text": [
      "show datails\n"
     ]
    }
   ],
   "source": [
    "vehicle_obj.show()"
   ]
  },
  {
   "cell_type": "code",
   "execution_count": 36,
   "id": "4891396e",
   "metadata": {},
   "outputs": [
    {
     "name": "stdout",
     "output_type": "stream",
     "text": [
      "show datails of a car\n"
     ]
    }
   ],
   "source": [
    "truck_obj.show()"
   ]
  },
  {
   "cell_type": "markdown",
   "id": "7bb6d92e",
   "metadata": {},
   "source": [
    "# Encapsulation"
   ]
  },
  {
   "cell_type": "markdown",
   "id": "9c0f1cda",
   "metadata": {},
   "source": [
    "- the process of hiding attributes/ methods is called encapsulation\n",
    "    - Public\n",
    "    - Private(__)\n",
    "    - Protected(_)"
   ]
  },
  {
   "cell_type": "code",
   "execution_count": 6,
   "id": "4621d196",
   "metadata": {},
   "outputs": [],
   "source": [
    "class Saylani():\n",
    "    def __init__(self):\n",
    "        self.campus = \"Zaitoon Ashraf\"\n",
    "        self._helpline = \"090078601\" # protected\n",
    "        self.__staff_contact = \"0300-123456\" # private"
   ]
  },
  {
   "cell_type": "code",
   "execution_count": 7,
   "id": "c29d65df",
   "metadata": {},
   "outputs": [],
   "source": [
    "saylani_obj = Saylani()"
   ]
  },
  {
   "cell_type": "code",
   "execution_count": 9,
   "id": "fe0ad756",
   "metadata": {},
   "outputs": [
    {
     "data": {
      "text/plain": [
       "'Zaitoon Ashraf'"
      ]
     },
     "execution_count": 9,
     "metadata": {},
     "output_type": "execute_result"
    }
   ],
   "source": [
    "saylani_obj.campus"
   ]
  },
  {
   "cell_type": "code",
   "execution_count": 10,
   "id": "9999ed60",
   "metadata": {},
   "outputs": [
    {
     "data": {
      "text/plain": [
       "'090078601'"
      ]
     },
     "execution_count": 10,
     "metadata": {},
     "output_type": "execute_result"
    }
   ],
   "source": [
    "saylani_obj._helpline #protected"
   ]
  },
  {
   "cell_type": "code",
   "execution_count": 14,
   "id": "ee44c0b9",
   "metadata": {},
   "outputs": [
    {
     "data": {
      "text/plain": [
       "'0300-123456'"
      ]
     },
     "execution_count": 14,
     "metadata": {},
     "output_type": "execute_result"
    }
   ],
   "source": [
    "saylani_obj._Saylani__staff_contact #private"
   ]
  },
  {
   "cell_type": "raw",
   "id": "3936ee34",
   "metadata": {},
   "source": [
    "Create a login class that uses the concepts of encapsulation and do validation before login and also provide the capability\n",
    "to update the password."
   ]
  },
  {
   "cell_type": "code",
   "execution_count": 19,
   "id": "34f1959a",
   "metadata": {},
   "outputs": [],
   "source": [
    "class Login():\n",
    "    def __init__(self):\n",
    "        self._user_name = \"usama\"\n",
    "        self._password = \"admin\"\n",
    "        \n",
    "    def __dbconnectivity(self, user_name, password):\n",
    "        if user_name == self._user_name and password == self._password:\n",
    "            \n",
    "        \n",
    "        \n",
    "    def update_password(self, password):\n",
    "        self.password = password\n",
    "        print(self.password)\n",
    "        \n",
    "    def login(self):\n",
    "        pass"
   ]
  },
  {
   "cell_type": "code",
   "execution_count": 20,
   "id": "d36598cf",
   "metadata": {},
   "outputs": [],
   "source": [
    "login_obj = Login()"
   ]
  },
  {
   "cell_type": "code",
   "execution_count": 22,
   "id": "c796e3fd",
   "metadata": {},
   "outputs": [
    {
     "name": "stdout",
     "output_type": "stream",
     "text": [
      "pass\n"
     ]
    }
   ],
   "source": [
    "login_obj.update_password(\"pass\")"
   ]
  },
  {
   "cell_type": "markdown",
   "id": "ab15ee03",
   "metadata": {},
   "source": [
    "# Method Overloading"
   ]
  },
  {
   "cell_type": "code",
   "execution_count": null,
   "id": "efa68071",
   "metadata": {},
   "outputs": [],
   "source": [
    "from typing import overload\n",
    "class Addition():\n",
    "    \n",
    "    @overload\n",
    "    def add(self, x : int, y : int) -> int:\n",
    "     \n",
    "    @overload\n",
    "    def add(self, x : float, y : float) -> float:\n",
    "    \n",
    "    @overload\n",
    "    def add(self, x : str, y : str) -> str:\n",
    "        "
   ]
  }
 ],
 "metadata": {
  "kernelspec": {
   "display_name": "Python 3 (ipykernel)",
   "language": "python",
   "name": "python3"
  },
  "language_info": {
   "codemirror_mode": {
    "name": "ipython",
    "version": 3
   },
   "file_extension": ".py",
   "mimetype": "text/x-python",
   "name": "python",
   "nbconvert_exporter": "python",
   "pygments_lexer": "ipython3",
   "version": "3.10.8"
  }
 },
 "nbformat": 4,
 "nbformat_minor": 5
}
